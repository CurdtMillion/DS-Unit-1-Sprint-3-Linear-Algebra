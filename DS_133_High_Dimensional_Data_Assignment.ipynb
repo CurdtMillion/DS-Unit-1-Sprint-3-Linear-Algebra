{
  "nbformat": 4,
  "nbformat_minor": 0,
  "metadata": {
    "colab": {
      "name": "DS_133_High_Dimensional_Data_Assignment.ipynb",
      "provenance": [],
      "collapsed_sections": [],
      "include_colab_link": true
    },
    "kernelspec": {
      "name": "python3",
      "display_name": "Python 3"
    }
  },
  "cells": [
    {
      "cell_type": "markdown",
      "metadata": {
        "id": "view-in-github",
        "colab_type": "text"
      },
      "source": [
        "<a href=\"https://colab.research.google.com/github/CurdtMillion/DS-Unit-1-Sprint-3-Linear-Algebra/blob/master/DS_133_High_Dimensional_Data_Assignment.ipynb\" target=\"_parent\"><img src=\"https://colab.research.google.com/assets/colab-badge.svg\" alt=\"Open In Colab\"/></a>"
      ]
    },
    {
      "cell_type": "markdown",
      "metadata": {
        "id": "7wMWCkE1RZpM",
        "colab_type": "text"
      },
      "source": [
        "# Vertical Line Test"
      ]
    },
    {
      "cell_type": "markdown",
      "metadata": {
        "id": "W0-g7aprRv2j",
        "colab_type": "text"
      },
      "source": [
        "## 1.1 Create two graphs, one that passes the vertical line test and one that does not."
      ]
    },
    {
      "cell_type": "code",
      "metadata": {
        "id": "fIJhCtF6RW_U",
        "colab_type": "code",
        "colab": {}
      },
      "source": [
        "# Import libraries\n",
        "import pandas as pd\n",
        "import numpy as np\n",
        "import matplotlib.pyplot as plt\n",
        "import math\n",
        "plt.rcParams.update({'font.size': 16})"
      ],
      "execution_count": 0,
      "outputs": []
    },
    {
      "cell_type": "code",
      "metadata": {
        "id": "gbkw9rawp7TT",
        "colab_type": "code",
        "outputId": "fc435b15-2172-4a24-9bf6-2c054936088a",
        "colab": {
          "base_uri": "https://localhost:8080/",
          "height": 270
        }
      },
      "source": [
        "# Plotting a line that does pass the vertical line test\n",
        "x = np.arange(-10, 11)\n",
        "y = x**4 - 5*x\n",
        "plt.plot(x, y)\n",
        "plt.axvline(x=0, color='r');"
      ],
      "execution_count": 0,
      "outputs": [
        {
          "output_type": "display_data",
          "data": {
            "image/png": "[encoded data removed]",
            "text/plain": [
              "<Figure size 432x288 with 1 Axes>"
            ]
          },
          "metadata": {
            "tags": []
          }
        }
      ]
    },
    {
      "cell_type": "code",
      "metadata": {
        "id": "X5bXk2PNqoVz",
        "colab_type": "code",
        "outputId": "58ed7d91-b4eb-4baa-d4fb-04a29169c7ae",
        "colab": {
          "base_uri": "https://localhost:8080/",
          "height": 270
        }
      },
      "source": [
        "# Plotting a line that does NOT pass the vertical line test\n",
        "x = y**2 + 3*y\n",
        "y = np.arange(-10, 11)\n",
        "plt.plot(x, y)\n",
        "plt.axvline(x=25, color='r');"
      ],
      "execution_count": 0,
      "outputs": [
        {
          "output_type": "display_data",
          "data": {
            "image/png": "[encoded data removed]",
            "text/plain": [
              "<Figure size 432x288 with 1 Axes>"
            ]
          },
          "metadata": {
            "tags": []
          }
        }
      ]
    },
    {
      "cell_type": "markdown",
      "metadata": {
        "id": "ckeTKqMgRy7g",
        "colab_type": "text"
      },
      "source": [
        "## 1.2 Why are graphs that don't pass the vertical line test not considered \"functions?\""
      ]
    },
    {
      "cell_type": "markdown",
      "metadata": {
        "id": "Gtl20YeDR6x-",
        "colab_type": "text"
      },
      "source": [
        "Graphs that don't pass the vertical line test are not considered 'functions', because a 'function' cannot have the same input.\n",
        "\n"
      ]
    },
    {
      "cell_type": "markdown",
      "metadata": {
        "id": "g21uN62xSKSk",
        "colab_type": "text"
      },
      "source": [
        "# Functions as Relations"
      ]
    },
    {
      "cell_type": "markdown",
      "metadata": {
        "id": "gwkcV-EMSMNd",
        "colab_type": "text"
      },
      "source": [
        "## 2.1 Which of the following relations are functions? Why?\n",
        "\n",
        "\\begin{align}\n",
        "\\text{Relation 1: } \\{(1, 2), (3, 2), (1, 3)\\}\n",
        "\\\\\n",
        "\\text{Relation 2: } \\{(1, 3), (2, 3), (6, 7)\\}\n",
        "\\\\\n",
        "\\text{Relation 3: } \\{(9, 4), (2, 1), (9, 6)\\}\n",
        "\\\\\n",
        "\\text{Relation 4: } \\{(6, 2), (8, 3), (6, 4)\\}\n",
        "\\\\\n",
        "\\text{Relation 5: } \\{(2, 6), (2, 7), (2, 4)\\}\n",
        "\\end{align}"
      ]
    },
    {
      "cell_type": "code",
      "metadata": {
        "id": "BZsQJqPUtM8P",
        "colab_type": "code",
        "outputId": "5de030fb-498b-4f4e-a345-722f61d3089a",
        "colab": {
          "base_uri": "https://localhost:8080/",
          "height": 270
        }
      },
      "source": [
        "# Relation 1: {(1,2),(3,2),(1,3)}\n",
        "x = np.array([1, 3, 1])\n",
        "y = np.array([2, 2, 3])\n",
        "plt.scatter(x, y, s=100)\n",
        "plt.plot(x, y, color='g')\n",
        "plt.axvline(x=2, color='red');\n",
        "\n",
        "# THIS RELATION IS NOT A FUNCTION."
      ],
      "execution_count": 0,
      "outputs": [
        {
          "output_type": "display_data",
          "data": {
            "image/png": "[encoded data removed]",
            "text/plain": [
              "<Figure size 432x288 with 1 Axes>"
            ]
          },
          "metadata": {
            "tags": []
          }
        }
      ]
    },
    {
      "cell_type": "code",
      "metadata": {
        "id": "3olV_EngtXDD",
        "colab_type": "code",
        "outputId": "36e477f4-e35c-4a53-bb09-b0623d25706c",
        "colab": {
          "base_uri": "https://localhost:8080/",
          "height": 270
        }
      },
      "source": [
        "# Relation 2: {(1,3),(2,3),(6,7)}\n",
        "x = np.array([1, 2, 6])\n",
        "y = np.array([3, 3, 7])\n",
        "plt.scatter(x, y, s=100)\n",
        "plt.plot(x, y, color='g')\n",
        "plt.axvline(x=2, color='red');\n",
        "# THIS RELATION IS A FUNCTION."
      ],
      "execution_count": 0,
      "outputs": [
        {
          "output_type": "display_data",
          "data": {
            "image/png": "[encoded data removed]",
            "text/plain": [
              "<Figure size 432x288 with 1 Axes>"
            ]
          },
          "metadata": {
            "tags": []
          }
        }
      ]
    },
    {
      "cell_type": "code",
      "metadata": {
        "id": "I3RhAzu9tXc9",
        "colab_type": "code",
        "outputId": "1c33fdb7-a3c6-473c-d52e-f5c91b96fc40",
        "colab": {
          "base_uri": "https://localhost:8080/",
          "height": 270
        }
      },
      "source": [
        "# Relation 3: {(9,4),(2,1),(9,6)}\n",
        "x = np.array([9, 2, 9])\n",
        "y = np.array([4, 1, 6])\n",
        "plt.scatter(x, y, s=100)\n",
        "plt.plot(x, y, color='g')\n",
        "plt.axvline(x=6, color='red');\n",
        "# THIS RELATION IS NOT A FUNCTION."
      ],
      "execution_count": 0,
      "outputs": [
        {
          "output_type": "display_data",
          "data": {
            "image/png": "[encoded data removed]",
            "text/plain": [
              "<Figure size 432x288 with 1 Axes>"
            ]
          },
          "metadata": {
            "tags": []
          }
        }
      ]
    },
    {
      "cell_type": "code",
      "metadata": {
        "id": "sPmw3vCDtYEI",
        "colab_type": "code",
        "outputId": "7aa9a261-d716-4894-d9a7-717942ea81b7",
        "colab": {
          "base_uri": "https://localhost:8080/",
          "height": 270
        }
      },
      "source": [
        "# Relation 4: {(6,2),(8,3),(6,4)}\n",
        "x = np.array([6, 8, 6])\n",
        "y = np.array([2, 3, 4])\n",
        "plt.scatter(x, y, s=100)\n",
        "plt.plot(x, y, color='g')\n",
        "plt.axvline(x=6.75, color='red');\n",
        "# THIS RELATION IS NOT A FUNCTION."
      ],
      "execution_count": 0,
      "outputs": [
        {
          "output_type": "display_data",
          "data": {
            "image/png": "[encoded data removed]",
            "text/plain": [
              "<Figure size 432x288 with 1 Axes>"
            ]
          },
          "metadata": {
            "tags": []
          }
        }
      ]
    },
    {
      "cell_type": "code",
      "metadata": {
        "id": "qSpNd_jctYa4",
        "colab_type": "code",
        "outputId": "28431e6f-c474-43af-ae97-ae6f45ec6414",
        "colab": {
          "base_uri": "https://localhost:8080/",
          "height": 270
        }
      },
      "source": [
        "# Relation 5: {(2,6),(2,7),(2,4)}\n",
        "x = np.array([2, 2, 2])\n",
        "y = np.array([6, 7, 4])\n",
        "plt.scatter(x, y, s=100)\n",
        "plt.plot(x, y, color='g')\n",
        "plt.axvline(x=2, color='red');\n",
        "# THIS RELATION IS TRICKY, IN THAT THE VLINE CAN LAY ENTIRELY ON TOP OF OUR\n",
        "# LINE.  THEREFORE, I WOULD SAY THIS IS NOT A FUNCTION."
      ],
      "execution_count": 0,
      "outputs": [
        {
          "output_type": "display_data",
          "data": {
            "image/png": "[encoded data removed]",
            "text/plain": [
              "<Figure size 432x288 with 1 Axes>"
            ]
          },
          "metadata": {
            "tags": []
          }
        }
      ]
    },
    {
      "cell_type": "markdown",
      "metadata": {
        "id": "y0U30PrlTAAa",
        "colab_type": "text"
      },
      "source": [
        "# Functions as a mapping between dimensions\n"
      ]
    },
    {
      "cell_type": "markdown",
      "metadata": {
        "id": "pw-OU9qmT5Ua",
        "colab_type": "text"
      },
      "source": [
        "## 3.1 for the following functions what is the dimensionality of the domain (input) and codomain (range/output)?\n",
        "\n",
        "\\begin{align}\n",
        "m(𝑥_1,𝑥_2,𝑥_3)=(x_1+x_2, x_1+x_3, x_2+x_3)\n",
        "\\\\\n",
        "n(𝑥_1,𝑥_2,𝑥_3,𝑥_4)=(x_2^2 + x_3, x_2x_4)\n",
        "\\end{align}"
      ]
    },
    {
      "cell_type": "code",
      "metadata": {
        "id": "fR7FeTvg0GvH",
        "colab_type": "code",
        "colab": {}
      },
      "source": [
        "# m(x1, x2, x3) = (x1 + x2, x1 + x3, x2 + x3)\n",
        "# This function has 3d input, and 3d output...???"
      ],
      "execution_count": 0,
      "outputs": []
    },
    {
      "cell_type": "code",
      "metadata": {
        "id": "yL8bOs7n0WLh",
        "colab_type": "code",
        "colab": {}
      },
      "source": [
        "# n(x1, x2, x3, x4) = (x2**2 + x3, x2*x4)\n",
        "# This function has 4d input, and 2d output...???"
      ],
      "execution_count": 0,
      "outputs": []
    },
    {
      "cell_type": "markdown",
      "metadata": {
        "id": "k4tKHjdHUevC",
        "colab_type": "text"
      },
      "source": [
        "## 3.2 Do you think it's possible to create a function that maps from a lower dimensional space to a higher dimensional space? If so, provide an example."
      ]
    },
    {
      "cell_type": "code",
      "metadata": {
        "id": "Q9sPCw_z4dgt",
        "colab_type": "code",
        "colab": {}
      },
      "source": [
        "# I need to come back to this.  My intuition is telling me it is possible, but for the life of me, I cannot think of an example."
      ],
      "execution_count": 0,
      "outputs": []
    },
    {
      "cell_type": "markdown",
      "metadata": {
        "id": "2nEWvwVyVWdW",
        "colab_type": "text"
      },
      "source": [
        "# Vector Transformations"
      ]
    },
    {
      "cell_type": "markdown",
      "metadata": {
        "id": "1n0-6FsYVcVk",
        "colab_type": "text"
      },
      "source": [
        "## 4.1 Plug the corresponding unit vectors into each function. Use the output vectors to create a transformation matrix.\n",
        "\n",
        "\\begin{align}\n",
        "p(\\begin{bmatrix}x_1 \\\\ x_2 \\end{bmatrix}) = \\begin{bmatrix} x_1 + 3x_2 \\\\2 x_2 - x_1 \\\\  \\end{bmatrix}\n",
        "\\\\\n",
        "\\\\\n",
        "q(\\begin{bmatrix}x_1 \\\\ x_2 \\\\ x_3\\end{bmatrix}) = \\begin{bmatrix} 4x_1 + x_2 + 2x_3 \\\\2 x_2 - x_1 + 3x_3 \\\\ 5x_1 - 2x_3 + x_2  \\end{bmatrix}\n",
        "\\end{align}"
      ]
    },
    {
      "cell_type": "code",
      "metadata": {
        "id": "0UANR1IEaVWE",
        "colab_type": "code",
        "colab": {}
      },
      "source": [
        "import pandas as pd\n",
        "import numpy as np"
      ],
      "execution_count": 0,
      "outputs": []
    },
    {
      "cell_type": "code",
      "metadata": {
        "id": "Uy1ua8D3wYg-",
        "colab_type": "code",
        "colab": {}
      },
      "source": [
        "def p(vect):\n",
        "  '''\n",
        "  Takes 2d vector as input\n",
        "  Outputs a 2d vector\n",
        "  '''\n",
        "  x1 = vect[0][0]\n",
        "  x2 = vect[1][0]\n",
        "  row1 = np.array([x1 + 3*x2])\n",
        "  row2 = np.array([2*x2 - x1])\n",
        "  output = np.array([row1, row2])\n",
        "  return output"
      ],
      "execution_count": 0,
      "outputs": []
    },
    {
      "cell_type": "code",
      "metadata": {
        "id": "4-Q8OIxHxM-R",
        "colab_type": "code",
        "colab": {
          "base_uri": "https://localhost:8080/",
          "height": 51
        },
        "outputId": "0bd88cb1-2775-4f04-ad72-7022859f60b5"
      },
      "source": [
        "# Applying to x\n",
        "j_hat = np.array([[1],[0]])\n",
        "d = p(j_hat)\n",
        "d"
      ],
      "execution_count": 11,
      "outputs": [
        {
          "output_type": "execute_result",
          "data": {
            "text/plain": [
              "array([[ 1],\n",
              "       [-1]])"
            ]
          },
          "metadata": {
            "tags": []
          },
          "execution_count": 11
        }
      ]
    },
    {
      "cell_type": "code",
      "metadata": {
        "id": "3S9ayT6lzHR6",
        "colab_type": "code",
        "colab": {
          "base_uri": "https://localhost:8080/",
          "height": 51
        },
        "outputId": "a40154ed-2664-4b82-fa94-a381e888b831"
      },
      "source": [
        "# Applying to y\n",
        "jj_hat = np.array([[0],[1]])\n",
        "e = p(jj_hat)\n",
        "e"
      ],
      "execution_count": 12,
      "outputs": [
        {
          "output_type": "execute_result",
          "data": {
            "text/plain": [
              "array([[3],\n",
              "       [2]])"
            ]
          },
          "metadata": {
            "tags": []
          },
          "execution_count": 12
        }
      ]
    },
    {
      "cell_type": "code",
      "metadata": {
        "id": "3YbibbTezpoT",
        "colab_type": "code",
        "colab": {
          "base_uri": "https://localhost:8080/",
          "height": 51
        },
        "outputId": "0899d08d-2143-4920-c630-57f451de5246"
      },
      "source": [
        "# Turning into matrix\n",
        "T = np.column_stack([d,e])\n",
        "T"
      ],
      "execution_count": 13,
      "outputs": [
        {
          "output_type": "execute_result",
          "data": {
            "text/plain": [
              "array([[ 1,  3],\n",
              "       [-1,  2]])"
            ]
          },
          "metadata": {
            "tags": []
          },
          "execution_count": 13
        }
      ]
    },
    {
      "cell_type": "markdown",
      "metadata": {
        "id": "DIKu7EQeugOl",
        "colab_type": "text"
      },
      "source": [
        ""
      ]
    },
    {
      "cell_type": "code",
      "metadata": {
        "id": "-BV72dfYuO9u",
        "colab_type": "code",
        "colab": {}
      },
      "source": [
        "def q(vect):\n",
        "  '''\n",
        "  Takes 3d vector as input\n",
        "  Outputs a 3d vector\n",
        "  '''\n",
        "  x1 = vect[0][0]\n",
        "  x2 = vect[1][0]\n",
        "  x3 = vect[2][0]\n",
        "  row1 = np.array([4*x1 + x2 + 2*x3])\n",
        "  row2 = np.array([2*x2 - x1 + 3*x3])\n",
        "  row3 = np.array([5*x1 - 2*x3 + x2])\n",
        "  output = np.array([row1, row2, row3])\n",
        "  return output\n",
        "\n"
      ],
      "execution_count": 0,
      "outputs": []
    },
    {
      "cell_type": "code",
      "metadata": {
        "id": "sEqzhlIuv_-P",
        "colab_type": "code",
        "colab": {
          "base_uri": "https://localhost:8080/",
          "height": 68
        },
        "outputId": "f49013d0-2289-4631-9ba8-8daf23de9235"
      },
      "source": [
        "# Applying to x\n",
        "k_hat = np.array([[1],[0],[0]])\n",
        "f = q(k_hat)\n",
        "f"
      ],
      "execution_count": 52,
      "outputs": [
        {
          "output_type": "execute_result",
          "data": {
            "text/plain": [
              "array([[ 4],\n",
              "       [-1],\n",
              "       [ 5]])"
            ]
          },
          "metadata": {
            "tags": []
          },
          "execution_count": 52
        }
      ]
    },
    {
      "cell_type": "code",
      "metadata": {
        "id": "JXwc82U20Lxs",
        "colab_type": "code",
        "colab": {
          "base_uri": "https://localhost:8080/",
          "height": 68
        },
        "outputId": "40de0bfc-13f4-4a73-cd1e-bc5e42b8f602"
      },
      "source": [
        "# Applying to y\n",
        "l_hat = np.array([[0],[1],[0]])\n",
        "g = q(l_hat)\n",
        "g"
      ],
      "execution_count": 53,
      "outputs": [
        {
          "output_type": "execute_result",
          "data": {
            "text/plain": [
              "array([[1],\n",
              "       [2],\n",
              "       [1]])"
            ]
          },
          "metadata": {
            "tags": []
          },
          "execution_count": 53
        }
      ]
    },
    {
      "cell_type": "code",
      "metadata": {
        "id": "_KKveeaO0MMk",
        "colab_type": "code",
        "colab": {
          "base_uri": "https://localhost:8080/",
          "height": 68
        },
        "outputId": "20d3af21-b550-4b92-eb76-0f04a8216df4"
      },
      "source": [
        "# Applying to z\n",
        "m_hat = np.array([[0],[0],[1]])\n",
        "h = q(m_hat)\n",
        "h"
      ],
      "execution_count": 54,
      "outputs": [
        {
          "output_type": "execute_result",
          "data": {
            "text/plain": [
              "array([[ 2],\n",
              "       [ 3],\n",
              "       [-2]])"
            ]
          },
          "metadata": {
            "tags": []
          },
          "execution_count": 54
        }
      ]
    },
    {
      "cell_type": "code",
      "metadata": {
        "id": "JzEujZvJ0qyk",
        "colab_type": "code",
        "colab": {
          "base_uri": "https://localhost:8080/",
          "height": 68
        },
        "outputId": "b3ac6ab7-18fd-4fbe-9b9e-b24ff7c0edd2"
      },
      "source": [
        "# Turn this into a matrix\n",
        "U = np.column_stack([f,g,h])\n",
        "U"
      ],
      "execution_count": 55,
      "outputs": [
        {
          "output_type": "execute_result",
          "data": {
            "text/plain": [
              "array([[ 4,  1,  2],\n",
              "       [-1,  2,  3],\n",
              "       [ 5,  1, -2]])"
            ]
          },
          "metadata": {
            "tags": []
          },
          "execution_count": 55
        }
      ]
    },
    {
      "cell_type": "markdown",
      "metadata": {
        "id": "n5HUOQIxZ2gp",
        "colab_type": "text"
      },
      "source": [
        "## 4.2 Verify that your transformation matrices are correct by choosing an input matrix and calculating the result both via the traditional functions above and also via vector-matrix multiplication."
      ]
    },
    {
      "cell_type": "code",
      "metadata": {
        "id": "i6H9mhrC9hyT",
        "colab_type": "code",
        "colab": {
          "base_uri": "https://localhost:8080/",
          "height": 51
        },
        "outputId": "88b94662-ac1b-4151-f999-97d2b7622594"
      },
      "source": [
        "# Verifying for the first one\n",
        "input_vector=np.array([[3],[4]])\n",
        "p(input_vector)"
      ],
      "execution_count": 56,
      "outputs": [
        {
          "output_type": "execute_result",
          "data": {
            "text/plain": [
              "array([[15],\n",
              "       [ 5]])"
            ]
          },
          "metadata": {
            "tags": []
          },
          "execution_count": 56
        }
      ]
    },
    {
      "cell_type": "code",
      "metadata": {
        "id": "RCo4AgRk1o8n",
        "colab_type": "code",
        "colab": {
          "base_uri": "https://localhost:8080/",
          "height": 51
        },
        "outputId": "a0d763f2-885b-4362-8646-db005ac8b56e"
      },
      "source": [
        "# Double checking for the first one\n",
        "output_vector=np.matmul(T, input_vector)\n",
        "output_vector"
      ],
      "execution_count": 57,
      "outputs": [
        {
          "output_type": "execute_result",
          "data": {
            "text/plain": [
              "array([[15],\n",
              "       [ 5]])"
            ]
          },
          "metadata": {
            "tags": []
          },
          "execution_count": 57
        }
      ]
    },
    {
      "cell_type": "code",
      "metadata": {
        "id": "KMP12nwU11vo",
        "colab_type": "code",
        "colab": {
          "base_uri": "https://localhost:8080/",
          "height": 300
        },
        "outputId": "a0c2cf89-bfd7-40b5-85fc-d0fb6545e695"
      },
      "source": [
        "# We got the same answer, now for the\n",
        "# Second one\n",
        "input_vector2=np.array([[3],[4],[5]])\n",
        "q(input_vector)"
      ],
      "execution_count": 46,
      "outputs": [
        {
          "output_type": "error",
          "ename": "IndexError",
          "evalue": "ignored",
          "traceback": [
            "\u001b[0;31m---------------------------------------------------------------------------\u001b[0m",
            "\u001b[0;31mIndexError\u001b[0m                                Traceback (most recent call last)",
            "\u001b[0;32m<ipython-input-46-6426b5278aa8>\u001b[0m in \u001b[0;36m<module>\u001b[0;34m()\u001b[0m\n\u001b[1;32m      1\u001b[0m \u001b[0minput_vector2\u001b[0m\u001b[0;34m=\u001b[0m\u001b[0mnp\u001b[0m\u001b[0;34m.\u001b[0m\u001b[0marray\u001b[0m\u001b[0;34m(\u001b[0m\u001b[0;34m[\u001b[0m\u001b[0;34m[\u001b[0m\u001b[0;36m3\u001b[0m\u001b[0;34m]\u001b[0m\u001b[0;34m,\u001b[0m\u001b[0;34m[\u001b[0m\u001b[0;36m4\u001b[0m\u001b[0;34m]\u001b[0m\u001b[0;34m,\u001b[0m\u001b[0;34m[\u001b[0m\u001b[0;36m5\u001b[0m\u001b[0;34m]\u001b[0m\u001b[0;34m]\u001b[0m\u001b[0;34m)\u001b[0m\u001b[0;34m\u001b[0m\u001b[0;34m\u001b[0m\u001b[0m\n\u001b[0;32m----> 2\u001b[0;31m \u001b[0mq\u001b[0m\u001b[0;34m(\u001b[0m\u001b[0minput_vector\u001b[0m\u001b[0;34m)\u001b[0m\u001b[0;34m\u001b[0m\u001b[0;34m\u001b[0m\u001b[0m\n\u001b[0m",
            "\u001b[0;32m<ipython-input-37-e302ed9e3e2e>\u001b[0m in \u001b[0;36mq\u001b[0;34m(vect)\u001b[0m\n\u001b[1;32m      6\u001b[0m   \u001b[0mx1\u001b[0m \u001b[0;34m=\u001b[0m \u001b[0mvect\u001b[0m\u001b[0;34m[\u001b[0m\u001b[0;36m0\u001b[0m\u001b[0;34m]\u001b[0m\u001b[0;34m[\u001b[0m\u001b[0;36m0\u001b[0m\u001b[0;34m]\u001b[0m\u001b[0;34m\u001b[0m\u001b[0;34m\u001b[0m\u001b[0m\n\u001b[1;32m      7\u001b[0m   \u001b[0mx2\u001b[0m \u001b[0;34m=\u001b[0m \u001b[0mvect\u001b[0m\u001b[0;34m[\u001b[0m\u001b[0;36m1\u001b[0m\u001b[0;34m]\u001b[0m\u001b[0;34m[\u001b[0m\u001b[0;36m0\u001b[0m\u001b[0;34m]\u001b[0m\u001b[0;34m\u001b[0m\u001b[0;34m\u001b[0m\u001b[0m\n\u001b[0;32m----> 8\u001b[0;31m   \u001b[0mx3\u001b[0m \u001b[0;34m=\u001b[0m \u001b[0mvect\u001b[0m\u001b[0;34m[\u001b[0m\u001b[0;36m2\u001b[0m\u001b[0;34m]\u001b[0m\u001b[0;34m[\u001b[0m\u001b[0;36m0\u001b[0m\u001b[0;34m]\u001b[0m\u001b[0;34m\u001b[0m\u001b[0;34m\u001b[0m\u001b[0m\n\u001b[0m\u001b[1;32m      9\u001b[0m   \u001b[0mrow1\u001b[0m \u001b[0;34m=\u001b[0m \u001b[0mnp\u001b[0m\u001b[0;34m.\u001b[0m\u001b[0marray\u001b[0m\u001b[0;34m(\u001b[0m\u001b[0;34m[\u001b[0m\u001b[0;36m4\u001b[0m\u001b[0;34m*\u001b[0m\u001b[0mx1\u001b[0m \u001b[0;34m+\u001b[0m \u001b[0mx2\u001b[0m \u001b[0;34m+\u001b[0m \u001b[0;36m2\u001b[0m\u001b[0;34m*\u001b[0m\u001b[0mx3\u001b[0m\u001b[0;34m]\u001b[0m\u001b[0;34m)\u001b[0m\u001b[0;34m\u001b[0m\u001b[0;34m\u001b[0m\u001b[0m\n\u001b[1;32m     10\u001b[0m   \u001b[0mrow2\u001b[0m \u001b[0;34m=\u001b[0m \u001b[0mnp\u001b[0m\u001b[0;34m.\u001b[0m\u001b[0marray\u001b[0m\u001b[0;34m(\u001b[0m\u001b[0;34m[\u001b[0m\u001b[0;36m2\u001b[0m\u001b[0;34m*\u001b[0m\u001b[0mx2\u001b[0m \u001b[0;34m-\u001b[0m \u001b[0mx1\u001b[0m \u001b[0;34m+\u001b[0m \u001b[0;36m3\u001b[0m\u001b[0;34m*\u001b[0m\u001b[0mx3\u001b[0m\u001b[0;34m]\u001b[0m\u001b[0;34m)\u001b[0m\u001b[0;34m\u001b[0m\u001b[0;34m\u001b[0m\u001b[0m\n",
            "\u001b[0;31mIndexError\u001b[0m: index 2 is out of bounds for axis 0 with size 2"
          ]
        }
      ]
    },
    {
      "cell_type": "markdown",
      "metadata": {
        "id": "5HY0R4u7anIr",
        "colab_type": "text"
      },
      "source": [
        "## 5.1 In your own words, give an explanation for the intuition behind eigenvalues and eigenvectors."
      ]
    },
    {
      "cell_type": "code",
      "metadata": {
        "id": "14h0AQYs-9PH",
        "colab_type": "code",
        "colab": {}
      },
      "source": [
        "# Eigenvalues and eigenvectors are important, because they can be used to decompose and square matrix by diagonalizing it."
      ],
      "execution_count": 0,
      "outputs": []
    },
    {
      "cell_type": "markdown",
      "metadata": {
        "id": "VdehMwBtatKI",
        "colab_type": "text"
      },
      "source": [
        "# The Curse of Dimensionality"
      ]
    },
    {
      "cell_type": "markdown",
      "metadata": {
        "id": "4oVrJax-a3SK",
        "colab_type": "text"
      },
      "source": [
        "## 6.1 What are some of the challenges of working with high dimensional spaces?"
      ]
    },
    {
      "cell_type": "code",
      "metadata": {
        "id": "XXEy9uX5_v3f",
        "colab_type": "code",
        "colab": {}
      },
      "source": [
        "# As you get more and more dimensions on your data frame, it becomes harder and harder to visualize it.  "
      ],
      "execution_count": 0,
      "outputs": []
    },
    {
      "cell_type": "markdown",
      "metadata": {
        "id": "ZiBJxsZla88c",
        "colab_type": "text"
      },
      "source": [
        "## 6.2 What is the rule of thumb for how many observations you should have compared to parameters in your model?"
      ]
    },
    {
      "cell_type": "code",
      "metadata": {
        "id": "NTHA8UPT_x_n",
        "colab_type": "code",
        "colab": {}
      },
      "source": [
        "# I will need to come back to this question.\n",
        "# Per research online, it seems that there is a 1 in 10 rule."
      ],
      "execution_count": 0,
      "outputs": []
    },
    {
      "cell_type": "markdown",
      "metadata": {
        "id": "NZmqdeygbHJx",
        "colab_type": "text"
      },
      "source": [
        "# Principal Component Analysis"
      ]
    },
    {
      "cell_type": "markdown",
      "metadata": {
        "id": "7iEheetpbJdN",
        "colab_type": "text"
      },
      "source": [
        "## 7.1 Code for loading and cleaning the 2013 national dataset from the [Housing Affordability Data System (HADS)](https://www.huduser.gov/portal/datasets/hads/hads.html) --housing data, can be found below. \n",
        "\n",
        "## Perform PCA on the processed dataset `national_processed` (Make sure you standardize your data!) and then make a scatterplot of PC1 against PC2. Some of our discussion and work around PCA with this dataset will continue during tomorrow's lecture and assignment.\n",
        "\n",
        "Not only does this dataset have decent amount columns to begin with (99), but in preparing the data for PCA we have also [one-hot-encoded](https://hackernoon.com/what-is-one-hot-encoding-why-and-when-do-you-have-to-use-it-e3c6186d008f#targetText=One%20hot%20encoding%20is%20a,the%20entry%20in%20the%20dataset.) all of the categorical variables. This has the effect of creating a new column for each individual category of each categorical variable. After processing this dataset has 64738 columns. --Das a lot of columns.\n",
        "\n",
        "Don't worry too much about the mechanics of one-hot encoding right now, you will learn and experiment with a whole bunch of categorical encoding approaches in unit 2. \n",
        "\n",
        "The code below will read in the dataset and perform the one-hot encoding of the categorical variables. Start adding your PCA code at the bottom of the provided code."
      ]
    },
    {
      "cell_type": "code",
      "metadata": {
        "id": "Us4nNFs02HlD",
        "colab_type": "code",
        "outputId": "c10038a4-9886-4ca9-f030-fb42ee391088",
        "colab": {
          "base_uri": "https://localhost:8080/",
          "height": 355
        }
      },
      "source": [
        "from urllib.request import urlopen\n",
        "from zipfile import ZipFile\n",
        "from io import BytesIO\n",
        "import os.path\n",
        "import pandas as pd\n",
        "import numpy as np\n",
        "import matplotlib.pyplot as plt\n",
        "\n",
        "# Read Natinal Data \n",
        "national_url = 'https://www.huduser.gov/portal/datasets/hads/hads2013n_ASCII.zip'\n",
        "national_file = 'thads2013n.txt'\n",
        "\n",
        "if os.path.exists(national_file):\n",
        "    national = pd.read_csv(national_file)\n",
        "else: \n",
        "    z_national = urlopen(national_url)\n",
        "    zip_national = ZipFile(BytesIO(z_national.read())).extract(national_file)\n",
        "    national = pd.read_csv(zip_national)\n",
        "\n",
        "print(national.shape)\n",
        "national.head()"
      ],
      "execution_count": 0,
      "outputs": [
        {
          "output_type": "stream",
          "text": [
            "(64535, 99)\n"
          ],
          "name": "stdout"
        },
        {
          "output_type": "execute_result",
          "data": {
            "text/html": [
              "<div>\n",
              "<style scoped>\n",
              "    .dataframe tbody tr th:only-of-type {\n",
              "        vertical-align: middle;\n",
              "    }\n",
              "\n",
              "    .dataframe tbody tr th {\n",
              "        vertical-align: top;\n",
              "    }\n",
              "\n",
              "    .dataframe thead th {\n",
              "        text-align: right;\n",
              "    }\n",
              "</style>\n",
              "<table border=\"1\" class=\"dataframe\">\n",
              "  <thead>\n",
              "    <tr style=\"text-align: right;\">\n",
              "      <th></th>\n",
              "      <th>CONTROL</th>\n",
              "      <th>AGE1</th>\n",
              "      <th>METRO3</th>\n",
              "      <th>REGION</th>\n",
              "      <th>LMED</th>\n",
              "      <th>FMR</th>\n",
              "      <th>L30</th>\n",
              "      <th>L50</th>\n",
              "      <th>L80</th>\n",
              "      <th>IPOV</th>\n",
              "      <th>BEDRMS</th>\n",
              "      <th>BUILT</th>\n",
              "      <th>STATUS</th>\n",
              "      <th>TYPE</th>\n",
              "      <th>VALUE</th>\n",
              "      <th>VACANCY</th>\n",
              "      <th>TENURE</th>\n",
              "      <th>NUNITS</th>\n",
              "      <th>ROOMS</th>\n",
              "      <th>WEIGHT</th>\n",
              "      <th>PER</th>\n",
              "      <th>ZINC2</th>\n",
              "      <th>ZADEQ</th>\n",
              "      <th>ZSMHC</th>\n",
              "      <th>STRUCTURETYPE</th>\n",
              "      <th>OWNRENT</th>\n",
              "      <th>UTILITY</th>\n",
              "      <th>OTHERCOST</th>\n",
              "      <th>COST06</th>\n",
              "      <th>COST12</th>\n",
              "      <th>COST08</th>\n",
              "      <th>COSTMED</th>\n",
              "      <th>TOTSAL</th>\n",
              "      <th>ASSISTED</th>\n",
              "      <th>GLMED</th>\n",
              "      <th>GL30</th>\n",
              "      <th>GL50</th>\n",
              "      <th>GL80</th>\n",
              "      <th>APLMED</th>\n",
              "      <th>ABL30</th>\n",
              "      <th>...</th>\n",
              "      <th>COST08RELPOVCAT</th>\n",
              "      <th>COST08RELFMRPCT</th>\n",
              "      <th>COST08RELFMRCAT</th>\n",
              "      <th>COST12RELAMIPCT</th>\n",
              "      <th>COST12RELAMICAT</th>\n",
              "      <th>COST12RELPOVPCT</th>\n",
              "      <th>COST12RELPOVCAT</th>\n",
              "      <th>COST12RELFMRPCT</th>\n",
              "      <th>COST12RELFMRCAT</th>\n",
              "      <th>COSTMedRELAMIPCT</th>\n",
              "      <th>COSTMedRELAMICAT</th>\n",
              "      <th>COSTMedRELPOVPCT</th>\n",
              "      <th>COSTMedRELPOVCAT</th>\n",
              "      <th>COSTMedRELFMRPCT</th>\n",
              "      <th>COSTMedRELFMRCAT</th>\n",
              "      <th>FMTZADEQ</th>\n",
              "      <th>FMTMETRO3</th>\n",
              "      <th>FMTBUILT</th>\n",
              "      <th>FMTSTRUCTURETYPE</th>\n",
              "      <th>FMTBEDRMS</th>\n",
              "      <th>FMTOWNRENT</th>\n",
              "      <th>FMTCOST06RELPOVCAT</th>\n",
              "      <th>FMTCOST08RELPOVCAT</th>\n",
              "      <th>FMTCOST12RELPOVCAT</th>\n",
              "      <th>FMTCOSTMEDRELPOVCAT</th>\n",
              "      <th>FMTINCRELPOVCAT</th>\n",
              "      <th>FMTCOST06RELFMRCAT</th>\n",
              "      <th>FMTCOST08RELFMRCAT</th>\n",
              "      <th>FMTCOST12RELFMRCAT</th>\n",
              "      <th>FMTCOSTMEDRELFMRCAT</th>\n",
              "      <th>FMTINCRELFMRCAT</th>\n",
              "      <th>FMTCOST06RELAMICAT</th>\n",
              "      <th>FMTCOST08RELAMICAT</th>\n",
              "      <th>FMTCOST12RELAMICAT</th>\n",
              "      <th>FMTCOSTMEDRELAMICAT</th>\n",
              "      <th>FMTINCRELAMICAT</th>\n",
              "      <th>FMTASSISTED</th>\n",
              "      <th>FMTBURDEN</th>\n",
              "      <th>FMTREGION</th>\n",
              "      <th>FMTSTATUS</th>\n",
              "    </tr>\n",
              "  </thead>\n",
              "  <tbody>\n",
              "    <tr>\n",
              "      <th>0</th>\n",
              "      <td>'100003130103'</td>\n",
              "      <td>82</td>\n",
              "      <td>'3'</td>\n",
              "      <td>'1'</td>\n",
              "      <td>73738</td>\n",
              "      <td>956</td>\n",
              "      <td>15738</td>\n",
              "      <td>26213</td>\n",
              "      <td>40322</td>\n",
              "      <td>11067</td>\n",
              "      <td>2</td>\n",
              "      <td>2006</td>\n",
              "      <td>'1'</td>\n",
              "      <td>1</td>\n",
              "      <td>40000</td>\n",
              "      <td>-6</td>\n",
              "      <td>'1'</td>\n",
              "      <td>1</td>\n",
              "      <td>6</td>\n",
              "      <td>3117.394239</td>\n",
              "      <td>1</td>\n",
              "      <td>18021</td>\n",
              "      <td>'1'</td>\n",
              "      <td>533</td>\n",
              "      <td>1</td>\n",
              "      <td>'1'</td>\n",
              "      <td>169.000000</td>\n",
              "      <td>213.750000</td>\n",
              "      <td>648.588189</td>\n",
              "      <td>803.050535</td>\n",
              "      <td>696.905247</td>\n",
              "      <td>615.156712</td>\n",
              "      <td>0</td>\n",
              "      <td>-9</td>\n",
              "      <td>73738</td>\n",
              "      <td>15738</td>\n",
              "      <td>26213</td>\n",
              "      <td>40322</td>\n",
              "      <td>51616.6</td>\n",
              "      <td>20234.571429</td>\n",
              "      <td>...</td>\n",
              "      <td>4</td>\n",
              "      <td>72.898038</td>\n",
              "      <td>2</td>\n",
              "      <td>48.402635</td>\n",
              "      <td>2</td>\n",
              "      <td>290.250487</td>\n",
              "      <td>4</td>\n",
              "      <td>84.001102</td>\n",
              "      <td>2</td>\n",
              "      <td>37.077624</td>\n",
              "      <td>2</td>\n",
              "      <td>222.339102</td>\n",
              "      <td>4</td>\n",
              "      <td>64.346936</td>\n",
              "      <td>2</td>\n",
              "      <td>'1 Adequate'</td>\n",
              "      <td>'-5'</td>\n",
              "      <td>'2000-2009'</td>\n",
              "      <td>'1 Single Family'</td>\n",
              "      <td>'2 2BR'</td>\n",
              "      <td>'1 Owner'</td>\n",
              "      <td>'4 200%+ Poverty'</td>\n",
              "      <td>'4 200%+ Poverty'</td>\n",
              "      <td>'4 200%+ Poverty'</td>\n",
              "      <td>'4 200%+ Poverty'</td>\n",
              "      <td>'3 150-200% Poverty'</td>\n",
              "      <td>'2 50.1 - 100% FMR'</td>\n",
              "      <td>'2 50.1 - 100% FMR'</td>\n",
              "      <td>'2 50.1 - 100% FMR'</td>\n",
              "      <td>'2 50.1 - 100% FMR'</td>\n",
              "      <td>'1 LTE 50% FMR'</td>\n",
              "      <td>'2 30 - 50% AMI'</td>\n",
              "      <td>'2 30 - 50% AMI'</td>\n",
              "      <td>'2 30 - 50% AMI'</td>\n",
              "      <td>'2 30 - 50% AMI'</td>\n",
              "      <td>'2 30 - 50% AMI'</td>\n",
              "      <td>'.'</td>\n",
              "      <td>'2 30% to 50%'</td>\n",
              "      <td>'-5'</td>\n",
              "      <td>'-5'</td>\n",
              "    </tr>\n",
              "    <tr>\n",
              "      <th>1</th>\n",
              "      <td>'100006110249'</td>\n",
              "      <td>50</td>\n",
              "      <td>'5'</td>\n",
              "      <td>'3'</td>\n",
              "      <td>55846</td>\n",
              "      <td>1100</td>\n",
              "      <td>17165</td>\n",
              "      <td>28604</td>\n",
              "      <td>45744</td>\n",
              "      <td>24218</td>\n",
              "      <td>4</td>\n",
              "      <td>1980</td>\n",
              "      <td>'1'</td>\n",
              "      <td>1</td>\n",
              "      <td>130000</td>\n",
              "      <td>-6</td>\n",
              "      <td>'1'</td>\n",
              "      <td>1</td>\n",
              "      <td>6</td>\n",
              "      <td>2150.725544</td>\n",
              "      <td>4</td>\n",
              "      <td>122961</td>\n",
              "      <td>'1'</td>\n",
              "      <td>487</td>\n",
              "      <td>1</td>\n",
              "      <td>'1'</td>\n",
              "      <td>245.333333</td>\n",
              "      <td>58.333333</td>\n",
              "      <td>1167.640781</td>\n",
              "      <td>1669.643405</td>\n",
              "      <td>1324.671218</td>\n",
              "      <td>1058.988479</td>\n",
              "      <td>123000</td>\n",
              "      <td>-9</td>\n",
              "      <td>55846</td>\n",
              "      <td>17165</td>\n",
              "      <td>28604</td>\n",
              "      <td>45744</td>\n",
              "      <td>55846.0</td>\n",
              "      <td>19911.400000</td>\n",
              "      <td>...</td>\n",
              "      <td>4</td>\n",
              "      <td>120.424656</td>\n",
              "      <td>3</td>\n",
              "      <td>103.094063</td>\n",
              "      <td>6</td>\n",
              "      <td>275.768999</td>\n",
              "      <td>4</td>\n",
              "      <td>151.785764</td>\n",
              "      <td>3</td>\n",
              "      <td>65.388468</td>\n",
              "      <td>4</td>\n",
              "      <td>174.909320</td>\n",
              "      <td>3</td>\n",
              "      <td>96.271680</td>\n",
              "      <td>2</td>\n",
              "      <td>'1 Adequate'</td>\n",
              "      <td>'-5'</td>\n",
              "      <td>'1980-1989'</td>\n",
              "      <td>'1 Single Family'</td>\n",
              "      <td>'4 4BR+'</td>\n",
              "      <td>'1 Owner'</td>\n",
              "      <td>'3 150-200% Poverty'</td>\n",
              "      <td>'4 200%+ Poverty'</td>\n",
              "      <td>'4 200%+ Poverty'</td>\n",
              "      <td>'3 150-200% Poverty'</td>\n",
              "      <td>'4 200%+ Poverty'</td>\n",
              "      <td>'3 GT FMR'</td>\n",
              "      <td>'3 GT FMR'</td>\n",
              "      <td>'3 GT FMR'</td>\n",
              "      <td>'2 50.1 - 100% FMR'</td>\n",
              "      <td>'3 GT FMR'</td>\n",
              "      <td>'4 60 - 80% AMI'</td>\n",
              "      <td>'4 60 - 80% AMI'</td>\n",
              "      <td>'6 100 - 120% AMI'</td>\n",
              "      <td>'4 60 - 80% AMI'</td>\n",
              "      <td>'7 120% AMI +'</td>\n",
              "      <td>'.'</td>\n",
              "      <td>'1 Less than 30%'</td>\n",
              "      <td>'-5'</td>\n",
              "      <td>'-5'</td>\n",
              "    </tr>\n",
              "    <tr>\n",
              "      <th>2</th>\n",
              "      <td>'100006370140'</td>\n",
              "      <td>53</td>\n",
              "      <td>'5'</td>\n",
              "      <td>'3'</td>\n",
              "      <td>55846</td>\n",
              "      <td>1100</td>\n",
              "      <td>13750</td>\n",
              "      <td>22897</td>\n",
              "      <td>36614</td>\n",
              "      <td>15470</td>\n",
              "      <td>4</td>\n",
              "      <td>1985</td>\n",
              "      <td>'1'</td>\n",
              "      <td>1</td>\n",
              "      <td>150000</td>\n",
              "      <td>-6</td>\n",
              "      <td>'1'</td>\n",
              "      <td>1</td>\n",
              "      <td>7</td>\n",
              "      <td>2213.789404</td>\n",
              "      <td>2</td>\n",
              "      <td>27974</td>\n",
              "      <td>'1'</td>\n",
              "      <td>1405</td>\n",
              "      <td>1</td>\n",
              "      <td>'1'</td>\n",
              "      <td>159.000000</td>\n",
              "      <td>37.500000</td>\n",
              "      <td>1193.393209</td>\n",
              "      <td>1772.627006</td>\n",
              "      <td>1374.582175</td>\n",
              "      <td>1068.025168</td>\n",
              "      <td>28000</td>\n",
              "      <td>-9</td>\n",
              "      <td>55846</td>\n",
              "      <td>13750</td>\n",
              "      <td>22897</td>\n",
              "      <td>36614</td>\n",
              "      <td>44676.8</td>\n",
              "      <td>19937.500000</td>\n",
              "      <td>...</td>\n",
              "      <td>4</td>\n",
              "      <td>124.962016</td>\n",
              "      <td>3</td>\n",
              "      <td>109.452905</td>\n",
              "      <td>6</td>\n",
              "      <td>458.339239</td>\n",
              "      <td>4</td>\n",
              "      <td>161.147910</td>\n",
              "      <td>3</td>\n",
              "      <td>65.946449</td>\n",
              "      <td>4</td>\n",
              "      <td>276.153890</td>\n",
              "      <td>4</td>\n",
              "      <td>97.093197</td>\n",
              "      <td>2</td>\n",
              "      <td>'1 Adequate'</td>\n",
              "      <td>'-5'</td>\n",
              "      <td>'1980-1989'</td>\n",
              "      <td>'1 Single Family'</td>\n",
              "      <td>'4 4BR+'</td>\n",
              "      <td>'1 Owner'</td>\n",
              "      <td>'4 200%+ Poverty'</td>\n",
              "      <td>'4 200%+ Poverty'</td>\n",
              "      <td>'4 200%+ Poverty'</td>\n",
              "      <td>'4 200%+ Poverty'</td>\n",
              "      <td>'3 150-200% Poverty'</td>\n",
              "      <td>'3 GT FMR'</td>\n",
              "      <td>'3 GT FMR'</td>\n",
              "      <td>'3 GT FMR'</td>\n",
              "      <td>'2 50.1 - 100% FMR'</td>\n",
              "      <td>'2 50.1 - 100% FMR'</td>\n",
              "      <td>'4 60 - 80% AMI'</td>\n",
              "      <td>'5 80 - 100% AMI'</td>\n",
              "      <td>'6 100 - 120% AMI'</td>\n",
              "      <td>'4 60 - 80% AMI'</td>\n",
              "      <td>'4 60 - 80% AMI'</td>\n",
              "      <td>'.'</td>\n",
              "      <td>'3 50% or More'</td>\n",
              "      <td>'-5'</td>\n",
              "      <td>'-5'</td>\n",
              "    </tr>\n",
              "    <tr>\n",
              "      <th>3</th>\n",
              "      <td>'100006520140'</td>\n",
              "      <td>67</td>\n",
              "      <td>'5'</td>\n",
              "      <td>'3'</td>\n",
              "      <td>55846</td>\n",
              "      <td>949</td>\n",
              "      <td>13750</td>\n",
              "      <td>22897</td>\n",
              "      <td>36614</td>\n",
              "      <td>13964</td>\n",
              "      <td>3</td>\n",
              "      <td>1985</td>\n",
              "      <td>'1'</td>\n",
              "      <td>1</td>\n",
              "      <td>200000</td>\n",
              "      <td>-6</td>\n",
              "      <td>'1'</td>\n",
              "      <td>1</td>\n",
              "      <td>6</td>\n",
              "      <td>2364.585097</td>\n",
              "      <td>2</td>\n",
              "      <td>32220</td>\n",
              "      <td>'1'</td>\n",
              "      <td>279</td>\n",
              "      <td>1</td>\n",
              "      <td>'1'</td>\n",
              "      <td>179.000000</td>\n",
              "      <td>70.666667</td>\n",
              "      <td>1578.857612</td>\n",
              "      <td>2351.169341</td>\n",
              "      <td>1820.442900</td>\n",
              "      <td>1411.700224</td>\n",
              "      <td>0</td>\n",
              "      <td>-9</td>\n",
              "      <td>55846</td>\n",
              "      <td>13750</td>\n",
              "      <td>22897</td>\n",
              "      <td>36614</td>\n",
              "      <td>44676.8</td>\n",
              "      <td>17875.000000</td>\n",
              "      <td>...</td>\n",
              "      <td>4</td>\n",
              "      <td>191.827492</td>\n",
              "      <td>3</td>\n",
              "      <td>161.926709</td>\n",
              "      <td>7</td>\n",
              "      <td>673.494512</td>\n",
              "      <td>4</td>\n",
              "      <td>247.752301</td>\n",
              "      <td>3</td>\n",
              "      <td>97.224801</td>\n",
              "      <td>5</td>\n",
              "      <td>404.382763</td>\n",
              "      <td>4</td>\n",
              "      <td>148.756610</td>\n",
              "      <td>3</td>\n",
              "      <td>'1 Adequate'</td>\n",
              "      <td>'-5'</td>\n",
              "      <td>'1980-1989'</td>\n",
              "      <td>'1 Single Family'</td>\n",
              "      <td>'3 3BR'</td>\n",
              "      <td>'1 Owner'</td>\n",
              "      <td>'4 200%+ Poverty'</td>\n",
              "      <td>'4 200%+ Poverty'</td>\n",
              "      <td>'4 200%+ Poverty'</td>\n",
              "      <td>'4 200%+ Poverty'</td>\n",
              "      <td>'4 200%+ Poverty'</td>\n",
              "      <td>'3 GT FMR'</td>\n",
              "      <td>'3 GT FMR'</td>\n",
              "      <td>'3 GT FMR'</td>\n",
              "      <td>'3 GT FMR'</td>\n",
              "      <td>'2 50.1 - 100% FMR'</td>\n",
              "      <td>'6 100 - 120% AMI'</td>\n",
              "      <td>'7 120% AMI +'</td>\n",
              "      <td>'7 120% AMI +'</td>\n",
              "      <td>'5 80 - 100% AMI'</td>\n",
              "      <td>'4 60 - 80% AMI'</td>\n",
              "      <td>'.'</td>\n",
              "      <td>'1 Less than 30%'</td>\n",
              "      <td>'-5'</td>\n",
              "      <td>'-5'</td>\n",
              "    </tr>\n",
              "    <tr>\n",
              "      <th>4</th>\n",
              "      <td>'100007130148'</td>\n",
              "      <td>26</td>\n",
              "      <td>'1'</td>\n",
              "      <td>'3'</td>\n",
              "      <td>60991</td>\n",
              "      <td>737</td>\n",
              "      <td>14801</td>\n",
              "      <td>24628</td>\n",
              "      <td>39421</td>\n",
              "      <td>15492</td>\n",
              "      <td>2</td>\n",
              "      <td>1980</td>\n",
              "      <td>'1'</td>\n",
              "      <td>1</td>\n",
              "      <td>-6</td>\n",
              "      <td>-6</td>\n",
              "      <td>'2'</td>\n",
              "      <td>100</td>\n",
              "      <td>4</td>\n",
              "      <td>2314.524902</td>\n",
              "      <td>2</td>\n",
              "      <td>96874</td>\n",
              "      <td>'1'</td>\n",
              "      <td>759</td>\n",
              "      <td>5</td>\n",
              "      <td>'2'</td>\n",
              "      <td>146.000000</td>\n",
              "      <td>12.500000</td>\n",
              "      <td>759.000000</td>\n",
              "      <td>759.000000</td>\n",
              "      <td>759.000000</td>\n",
              "      <td>759.000000</td>\n",
              "      <td>96900</td>\n",
              "      <td>0</td>\n",
              "      <td>60991</td>\n",
              "      <td>14801</td>\n",
              "      <td>24628</td>\n",
              "      <td>39421</td>\n",
              "      <td>48792.8</td>\n",
              "      <td>16651.125000</td>\n",
              "      <td>...</td>\n",
              "      <td>3</td>\n",
              "      <td>102.985075</td>\n",
              "      <td>3</td>\n",
              "      <td>55.308707</td>\n",
              "      <td>3</td>\n",
              "      <td>195.972115</td>\n",
              "      <td>3</td>\n",
              "      <td>102.985075</td>\n",
              "      <td>3</td>\n",
              "      <td>55.308707</td>\n",
              "      <td>3</td>\n",
              "      <td>195.972115</td>\n",
              "      <td>3</td>\n",
              "      <td>102.985075</td>\n",
              "      <td>3</td>\n",
              "      <td>'1 Adequate'</td>\n",
              "      <td>'Central City'</td>\n",
              "      <td>'1980-1989'</td>\n",
              "      <td>'5 50+ units'</td>\n",
              "      <td>'2 2BR'</td>\n",
              "      <td>'2 Renter'</td>\n",
              "      <td>'3 150-200% Poverty'</td>\n",
              "      <td>'3 150-200% Poverty'</td>\n",
              "      <td>'3 150-200% Poverty'</td>\n",
              "      <td>'3 150-200% Poverty'</td>\n",
              "      <td>'4 200%+ Poverty'</td>\n",
              "      <td>'3 GT FMR'</td>\n",
              "      <td>'3 GT FMR'</td>\n",
              "      <td>'3 GT FMR'</td>\n",
              "      <td>'3 GT FMR'</td>\n",
              "      <td>'3 GT FMR'</td>\n",
              "      <td>'3 50 - 60% AMI'</td>\n",
              "      <td>'3 50 - 60% AMI'</td>\n",
              "      <td>'3 50 - 60% AMI'</td>\n",
              "      <td>'3 50 - 60% AMI'</td>\n",
              "      <td>'7 120% AMI +'</td>\n",
              "      <td>'0 Not Assisted'</td>\n",
              "      <td>'1 Less than 30%'</td>\n",
              "      <td>'-5'</td>\n",
              "      <td>'-5'</td>\n",
              "    </tr>\n",
              "  </tbody>\n",
              "</table>\n",
              "<p>5 rows × 99 columns</p>\n",
              "</div>"
            ],
            "text/plain": [
              "          CONTROL  AGE1 METRO3  ...          FMTBURDEN  FMTREGION  FMTSTATUS\n",
              "0  '100003130103'    82    '3'  ...     '2 30% to 50%'       '-5'       '-5'\n",
              "1  '100006110249'    50    '5'  ...  '1 Less than 30%'       '-5'       '-5'\n",
              "2  '100006370140'    53    '5'  ...    '3 50% or More'       '-5'       '-5'\n",
              "3  '100006520140'    67    '5'  ...  '1 Less than 30%'       '-5'       '-5'\n",
              "4  '100007130148'    26    '1'  ...  '1 Less than 30%'       '-5'       '-5'\n",
              "\n",
              "[5 rows x 99 columns]"
            ]
          },
          "metadata": {
            "tags": []
          },
          "execution_count": 30
        }
      ]
    },
    {
      "cell_type": "code",
      "metadata": {
        "id": "O5zrMTud2qFU",
        "colab_type": "code",
        "outputId": "64ac3223-4b18-49d9-b231-d8182c8d114f",
        "colab": {
          "base_uri": "https://localhost:8080/",
          "height": 221
        }
      },
      "source": [
        "# Look at datatypes\n",
        "# a lot of object datatypes even though they seem to be strings of numbers.\n",
        "national.dtypes"
      ],
      "execution_count": 0,
      "outputs": [
        {
          "output_type": "execute_result",
          "data": {
            "text/plain": [
              "CONTROL            object\n",
              "AGE1                int64\n",
              "METRO3             object\n",
              "REGION             object\n",
              "LMED                int64\n",
              "                    ...  \n",
              "FMTINCRELAMICAT    object\n",
              "FMTASSISTED        object\n",
              "FMTBURDEN          object\n",
              "FMTREGION          object\n",
              "FMTSTATUS          object\n",
              "Length: 99, dtype: object"
            ]
          },
          "metadata": {
            "tags": []
          },
          "execution_count": 31
        }
      ]
    },
    {
      "cell_type": "code",
      "metadata": {
        "id": "yIrOjVmd2yLz",
        "colab_type": "code",
        "outputId": "a84b2255-9d36-460b-fd06-23ca7baba20f",
        "colab": {
          "base_uri": "https://localhost:8080/",
          "height": 34
        }
      },
      "source": [
        "# check for null values\n",
        "national.isnull().sum().any()"
      ],
      "execution_count": 0,
      "outputs": [
        {
          "output_type": "execute_result",
          "data": {
            "text/plain": [
              "False"
            ]
          },
          "metadata": {
            "tags": []
          },
          "execution_count": 32
        }
      ]
    },
    {
      "cell_type": "code",
      "metadata": {
        "id": "2u9tdmwX3KL_",
        "colab_type": "code",
        "outputId": "4dd4b9e7-b52f-45de-c6e1-0c415b431b08",
        "colab": {
          "base_uri": "https://localhost:8080/",
          "height": 51
        }
      },
      "source": [
        "# check for number of categorical vs numeric columns\n",
        "cat_cols = national.columns[national.dtypes=='object']\n",
        "num_cols = national.columns[national.dtypes!='object']\n",
        "\n",
        "print(f'{len(cat_cols)} categorical columns')\n",
        "print(f'{len(num_cols)} numerical columns')"
      ],
      "execution_count": 0,
      "outputs": [
        {
          "output_type": "stream",
          "text": [
            "32 categorical columns\n",
            "67 numerical columns\n"
          ],
          "name": "stdout"
        }
      ]
    },
    {
      "cell_type": "code",
      "metadata": {
        "id": "UMHOtOs_3gcL",
        "colab_type": "code",
        "outputId": "856ade4a-6dc2-46be-9ede-e5c7cdb5274b",
        "colab": {
          "base_uri": "https://localhost:8080/",
          "height": 221
        }
      },
      "source": [
        "# We're making a copy of our data in case we mess something up.\n",
        "national_processed = national.copy()\n",
        "\n",
        "# Categorically Encode our Variables:\n",
        "# They need to all be numeric before we do PCA.\n",
        "# https://pbpython.com/categorical-encoding.html\n",
        "\n",
        "# Cast categorical columns to \"category\" data type\n",
        "national_processed[cat_cols] = national_processed[cat_cols].astype('category')\n",
        "\n",
        "national_processed.dtypes"
      ],
      "execution_count": 0,
      "outputs": [
        {
          "output_type": "execute_result",
          "data": {
            "text/plain": [
              "CONTROL            category\n",
              "AGE1                  int64\n",
              "METRO3             category\n",
              "REGION             category\n",
              "LMED                  int64\n",
              "                     ...   \n",
              "FMTINCRELAMICAT    category\n",
              "FMTASSISTED        category\n",
              "FMTBURDEN          category\n",
              "FMTREGION          category\n",
              "FMTSTATUS          category\n",
              "Length: 99, dtype: object"
            ]
          },
          "metadata": {
            "tags": []
          },
          "execution_count": 38
        }
      ]
    },
    {
      "cell_type": "code",
      "metadata": {
        "id": "ymxU-aPtQ1eq",
        "colab_type": "code",
        "outputId": "1cf60d1f-368f-4d66-8fb5-6a43d69fbae1",
        "colab": {
          "base_uri": "https://localhost:8080/",
          "height": 425
        }
      },
      "source": [
        "# Replace all category cell values with their numeric category codes\n",
        "for col in cat_cols:\n",
        "  national_processed[col] = national_processed[col].cat.codes\n",
        "\n",
        "print(national_processed.shape)\n",
        "national_processed.head(10)"
      ],
      "execution_count": 0,
      "outputs": [
        {
          "output_type": "stream",
          "text": [
            "(64535, 99)\n"
          ],
          "name": "stdout"
        },
        {
          "output_type": "execute_result",
          "data": {
            "text/html": [
              "<div>\n",
              "<style scoped>\n",
              "    .dataframe tbody tr th:only-of-type {\n",
              "        vertical-align: middle;\n",
              "    }\n",
              "\n",
              "    .dataframe tbody tr th {\n",
              "        vertical-align: top;\n",
              "    }\n",
              "\n",
              "    .dataframe thead th {\n",
              "        text-align: right;\n",
              "    }\n",
              "</style>\n",
              "<table border=\"1\" class=\"dataframe\">\n",
              "  <thead>\n",
              "    <tr style=\"text-align: right;\">\n",
              "      <th></th>\n",
              "      <th>CONTROL</th>\n",
              "      <th>AGE1</th>\n",
              "      <th>METRO3</th>\n",
              "      <th>REGION</th>\n",
              "      <th>LMED</th>\n",
              "      <th>FMR</th>\n",
              "      <th>L30</th>\n",
              "      <th>L50</th>\n",
              "      <th>L80</th>\n",
              "      <th>IPOV</th>\n",
              "      <th>BEDRMS</th>\n",
              "      <th>BUILT</th>\n",
              "      <th>STATUS</th>\n",
              "      <th>TYPE</th>\n",
              "      <th>VALUE</th>\n",
              "      <th>VACANCY</th>\n",
              "      <th>TENURE</th>\n",
              "      <th>NUNITS</th>\n",
              "      <th>ROOMS</th>\n",
              "      <th>WEIGHT</th>\n",
              "      <th>PER</th>\n",
              "      <th>ZINC2</th>\n",
              "      <th>ZADEQ</th>\n",
              "      <th>ZSMHC</th>\n",
              "      <th>STRUCTURETYPE</th>\n",
              "      <th>OWNRENT</th>\n",
              "      <th>UTILITY</th>\n",
              "      <th>OTHERCOST</th>\n",
              "      <th>COST06</th>\n",
              "      <th>COST12</th>\n",
              "      <th>COST08</th>\n",
              "      <th>COSTMED</th>\n",
              "      <th>TOTSAL</th>\n",
              "      <th>ASSISTED</th>\n",
              "      <th>GLMED</th>\n",
              "      <th>GL30</th>\n",
              "      <th>GL50</th>\n",
              "      <th>GL80</th>\n",
              "      <th>APLMED</th>\n",
              "      <th>ABL30</th>\n",
              "      <th>...</th>\n",
              "      <th>COST08RELPOVCAT</th>\n",
              "      <th>COST08RELFMRPCT</th>\n",
              "      <th>COST08RELFMRCAT</th>\n",
              "      <th>COST12RELAMIPCT</th>\n",
              "      <th>COST12RELAMICAT</th>\n",
              "      <th>COST12RELPOVPCT</th>\n",
              "      <th>COST12RELPOVCAT</th>\n",
              "      <th>COST12RELFMRPCT</th>\n",
              "      <th>COST12RELFMRCAT</th>\n",
              "      <th>COSTMedRELAMIPCT</th>\n",
              "      <th>COSTMedRELAMICAT</th>\n",
              "      <th>COSTMedRELPOVPCT</th>\n",
              "      <th>COSTMedRELPOVCAT</th>\n",
              "      <th>COSTMedRELFMRPCT</th>\n",
              "      <th>COSTMedRELFMRCAT</th>\n",
              "      <th>FMTZADEQ</th>\n",
              "      <th>FMTMETRO3</th>\n",
              "      <th>FMTBUILT</th>\n",
              "      <th>FMTSTRUCTURETYPE</th>\n",
              "      <th>FMTBEDRMS</th>\n",
              "      <th>FMTOWNRENT</th>\n",
              "      <th>FMTCOST06RELPOVCAT</th>\n",
              "      <th>FMTCOST08RELPOVCAT</th>\n",
              "      <th>FMTCOST12RELPOVCAT</th>\n",
              "      <th>FMTCOSTMEDRELPOVCAT</th>\n",
              "      <th>FMTINCRELPOVCAT</th>\n",
              "      <th>FMTCOST06RELFMRCAT</th>\n",
              "      <th>FMTCOST08RELFMRCAT</th>\n",
              "      <th>FMTCOST12RELFMRCAT</th>\n",
              "      <th>FMTCOSTMEDRELFMRCAT</th>\n",
              "      <th>FMTINCRELFMRCAT</th>\n",
              "      <th>FMTCOST06RELAMICAT</th>\n",
              "      <th>FMTCOST08RELAMICAT</th>\n",
              "      <th>FMTCOST12RELAMICAT</th>\n",
              "      <th>FMTCOSTMEDRELAMICAT</th>\n",
              "      <th>FMTINCRELAMICAT</th>\n",
              "      <th>FMTASSISTED</th>\n",
              "      <th>FMTBURDEN</th>\n",
              "      <th>FMTREGION</th>\n",
              "      <th>FMTSTATUS</th>\n",
              "    </tr>\n",
              "  </thead>\n",
              "  <tbody>\n",
              "    <tr>\n",
              "      <th>0</th>\n",
              "      <td>0</td>\n",
              "      <td>82</td>\n",
              "      <td>2</td>\n",
              "      <td>0</td>\n",
              "      <td>73738</td>\n",
              "      <td>956</td>\n",
              "      <td>15738</td>\n",
              "      <td>26213</td>\n",
              "      <td>40322</td>\n",
              "      <td>11067</td>\n",
              "      <td>2</td>\n",
              "      <td>2006</td>\n",
              "      <td>0</td>\n",
              "      <td>1</td>\n",
              "      <td>40000</td>\n",
              "      <td>-6</td>\n",
              "      <td>1</td>\n",
              "      <td>1</td>\n",
              "      <td>6</td>\n",
              "      <td>3117.394239</td>\n",
              "      <td>1</td>\n",
              "      <td>18021</td>\n",
              "      <td>1</td>\n",
              "      <td>533</td>\n",
              "      <td>1</td>\n",
              "      <td>0</td>\n",
              "      <td>169.000000</td>\n",
              "      <td>213.750000</td>\n",
              "      <td>648.588189</td>\n",
              "      <td>803.050535</td>\n",
              "      <td>696.905247</td>\n",
              "      <td>615.156712</td>\n",
              "      <td>0</td>\n",
              "      <td>-9</td>\n",
              "      <td>73738</td>\n",
              "      <td>15738</td>\n",
              "      <td>26213</td>\n",
              "      <td>40322</td>\n",
              "      <td>51616.6</td>\n",
              "      <td>20234.571429</td>\n",
              "      <td>...</td>\n",
              "      <td>4</td>\n",
              "      <td>72.898038</td>\n",
              "      <td>2</td>\n",
              "      <td>48.402635</td>\n",
              "      <td>2</td>\n",
              "      <td>290.250487</td>\n",
              "      <td>4</td>\n",
              "      <td>84.001102</td>\n",
              "      <td>2</td>\n",
              "      <td>37.077624</td>\n",
              "      <td>2</td>\n",
              "      <td>222.339102</td>\n",
              "      <td>4</td>\n",
              "      <td>64.346936</td>\n",
              "      <td>2</td>\n",
              "      <td>1</td>\n",
              "      <td>0</td>\n",
              "      <td>5</td>\n",
              "      <td>1</td>\n",
              "      <td>2</td>\n",
              "      <td>0</td>\n",
              "      <td>4</td>\n",
              "      <td>4</td>\n",
              "      <td>4</td>\n",
              "      <td>4</td>\n",
              "      <td>3</td>\n",
              "      <td>1</td>\n",
              "      <td>1</td>\n",
              "      <td>1</td>\n",
              "      <td>1</td>\n",
              "      <td>1</td>\n",
              "      <td>1</td>\n",
              "      <td>1</td>\n",
              "      <td>1</td>\n",
              "      <td>1</td>\n",
              "      <td>2</td>\n",
              "      <td>0</td>\n",
              "      <td>2</td>\n",
              "      <td>0</td>\n",
              "      <td>0</td>\n",
              "    </tr>\n",
              "    <tr>\n",
              "      <th>1</th>\n",
              "      <td>1</td>\n",
              "      <td>50</td>\n",
              "      <td>4</td>\n",
              "      <td>2</td>\n",
              "      <td>55846</td>\n",
              "      <td>1100</td>\n",
              "      <td>17165</td>\n",
              "      <td>28604</td>\n",
              "      <td>45744</td>\n",
              "      <td>24218</td>\n",
              "      <td>4</td>\n",
              "      <td>1980</td>\n",
              "      <td>0</td>\n",
              "      <td>1</td>\n",
              "      <td>130000</td>\n",
              "      <td>-6</td>\n",
              "      <td>1</td>\n",
              "      <td>1</td>\n",
              "      <td>6</td>\n",
              "      <td>2150.725544</td>\n",
              "      <td>4</td>\n",
              "      <td>122961</td>\n",
              "      <td>1</td>\n",
              "      <td>487</td>\n",
              "      <td>1</td>\n",
              "      <td>0</td>\n",
              "      <td>245.333333</td>\n",
              "      <td>58.333333</td>\n",
              "      <td>1167.640781</td>\n",
              "      <td>1669.643405</td>\n",
              "      <td>1324.671218</td>\n",
              "      <td>1058.988479</td>\n",
              "      <td>123000</td>\n",
              "      <td>-9</td>\n",
              "      <td>55846</td>\n",
              "      <td>17165</td>\n",
              "      <td>28604</td>\n",
              "      <td>45744</td>\n",
              "      <td>55846.0</td>\n",
              "      <td>19911.400000</td>\n",
              "      <td>...</td>\n",
              "      <td>4</td>\n",
              "      <td>120.424656</td>\n",
              "      <td>3</td>\n",
              "      <td>103.094063</td>\n",
              "      <td>6</td>\n",
              "      <td>275.768999</td>\n",
              "      <td>4</td>\n",
              "      <td>151.785764</td>\n",
              "      <td>3</td>\n",
              "      <td>65.388468</td>\n",
              "      <td>4</td>\n",
              "      <td>174.909320</td>\n",
              "      <td>3</td>\n",
              "      <td>96.271680</td>\n",
              "      <td>2</td>\n",
              "      <td>1</td>\n",
              "      <td>0</td>\n",
              "      <td>3</td>\n",
              "      <td>1</td>\n",
              "      <td>4</td>\n",
              "      <td>0</td>\n",
              "      <td>3</td>\n",
              "      <td>4</td>\n",
              "      <td>4</td>\n",
              "      <td>3</td>\n",
              "      <td>4</td>\n",
              "      <td>2</td>\n",
              "      <td>2</td>\n",
              "      <td>2</td>\n",
              "      <td>1</td>\n",
              "      <td>3</td>\n",
              "      <td>3</td>\n",
              "      <td>3</td>\n",
              "      <td>5</td>\n",
              "      <td>3</td>\n",
              "      <td>7</td>\n",
              "      <td>0</td>\n",
              "      <td>1</td>\n",
              "      <td>0</td>\n",
              "      <td>0</td>\n",
              "    </tr>\n",
              "    <tr>\n",
              "      <th>2</th>\n",
              "      <td>2</td>\n",
              "      <td>53</td>\n",
              "      <td>4</td>\n",
              "      <td>2</td>\n",
              "      <td>55846</td>\n",
              "      <td>1100</td>\n",
              "      <td>13750</td>\n",
              "      <td>22897</td>\n",
              "      <td>36614</td>\n",
              "      <td>15470</td>\n",
              "      <td>4</td>\n",
              "      <td>1985</td>\n",
              "      <td>0</td>\n",
              "      <td>1</td>\n",
              "      <td>150000</td>\n",
              "      <td>-6</td>\n",
              "      <td>1</td>\n",
              "      <td>1</td>\n",
              "      <td>7</td>\n",
              "      <td>2213.789404</td>\n",
              "      <td>2</td>\n",
              "      <td>27974</td>\n",
              "      <td>1</td>\n",
              "      <td>1405</td>\n",
              "      <td>1</td>\n",
              "      <td>0</td>\n",
              "      <td>159.000000</td>\n",
              "      <td>37.500000</td>\n",
              "      <td>1193.393209</td>\n",
              "      <td>1772.627006</td>\n",
              "      <td>1374.582175</td>\n",
              "      <td>1068.025168</td>\n",
              "      <td>28000</td>\n",
              "      <td>-9</td>\n",
              "      <td>55846</td>\n",
              "      <td>13750</td>\n",
              "      <td>22897</td>\n",
              "      <td>36614</td>\n",
              "      <td>44676.8</td>\n",
              "      <td>19937.500000</td>\n",
              "      <td>...</td>\n",
              "      <td>4</td>\n",
              "      <td>124.962016</td>\n",
              "      <td>3</td>\n",
              "      <td>109.452905</td>\n",
              "      <td>6</td>\n",
              "      <td>458.339239</td>\n",
              "      <td>4</td>\n",
              "      <td>161.147910</td>\n",
              "      <td>3</td>\n",
              "      <td>65.946449</td>\n",
              "      <td>4</td>\n",
              "      <td>276.153890</td>\n",
              "      <td>4</td>\n",
              "      <td>97.093197</td>\n",
              "      <td>2</td>\n",
              "      <td>1</td>\n",
              "      <td>0</td>\n",
              "      <td>3</td>\n",
              "      <td>1</td>\n",
              "      <td>4</td>\n",
              "      <td>0</td>\n",
              "      <td>4</td>\n",
              "      <td>4</td>\n",
              "      <td>4</td>\n",
              "      <td>4</td>\n",
              "      <td>3</td>\n",
              "      <td>2</td>\n",
              "      <td>2</td>\n",
              "      <td>2</td>\n",
              "      <td>1</td>\n",
              "      <td>2</td>\n",
              "      <td>3</td>\n",
              "      <td>4</td>\n",
              "      <td>5</td>\n",
              "      <td>3</td>\n",
              "      <td>4</td>\n",
              "      <td>0</td>\n",
              "      <td>3</td>\n",
              "      <td>0</td>\n",
              "      <td>0</td>\n",
              "    </tr>\n",
              "    <tr>\n",
              "      <th>3</th>\n",
              "      <td>3</td>\n",
              "      <td>67</td>\n",
              "      <td>4</td>\n",
              "      <td>2</td>\n",
              "      <td>55846</td>\n",
              "      <td>949</td>\n",
              "      <td>13750</td>\n",
              "      <td>22897</td>\n",
              "      <td>36614</td>\n",
              "      <td>13964</td>\n",
              "      <td>3</td>\n",
              "      <td>1985</td>\n",
              "      <td>0</td>\n",
              "      <td>1</td>\n",
              "      <td>200000</td>\n",
              "      <td>-6</td>\n",
              "      <td>1</td>\n",
              "      <td>1</td>\n",
              "      <td>6</td>\n",
              "      <td>2364.585097</td>\n",
              "      <td>2</td>\n",
              "      <td>32220</td>\n",
              "      <td>1</td>\n",
              "      <td>279</td>\n",
              "      <td>1</td>\n",
              "      <td>0</td>\n",
              "      <td>179.000000</td>\n",
              "      <td>70.666667</td>\n",
              "      <td>1578.857612</td>\n",
              "      <td>2351.169341</td>\n",
              "      <td>1820.442900</td>\n",
              "      <td>1411.700224</td>\n",
              "      <td>0</td>\n",
              "      <td>-9</td>\n",
              "      <td>55846</td>\n",
              "      <td>13750</td>\n",
              "      <td>22897</td>\n",
              "      <td>36614</td>\n",
              "      <td>44676.8</td>\n",
              "      <td>17875.000000</td>\n",
              "      <td>...</td>\n",
              "      <td>4</td>\n",
              "      <td>191.827492</td>\n",
              "      <td>3</td>\n",
              "      <td>161.926709</td>\n",
              "      <td>7</td>\n",
              "      <td>673.494512</td>\n",
              "      <td>4</td>\n",
              "      <td>247.752301</td>\n",
              "      <td>3</td>\n",
              "      <td>97.224801</td>\n",
              "      <td>5</td>\n",
              "      <td>404.382763</td>\n",
              "      <td>4</td>\n",
              "      <td>148.756610</td>\n",
              "      <td>3</td>\n",
              "      <td>1</td>\n",
              "      <td>0</td>\n",
              "      <td>3</td>\n",
              "      <td>1</td>\n",
              "      <td>3</td>\n",
              "      <td>0</td>\n",
              "      <td>4</td>\n",
              "      <td>4</td>\n",
              "      <td>4</td>\n",
              "      <td>4</td>\n",
              "      <td>4</td>\n",
              "      <td>2</td>\n",
              "      <td>2</td>\n",
              "      <td>2</td>\n",
              "      <td>2</td>\n",
              "      <td>2</td>\n",
              "      <td>5</td>\n",
              "      <td>6</td>\n",
              "      <td>6</td>\n",
              "      <td>4</td>\n",
              "      <td>4</td>\n",
              "      <td>0</td>\n",
              "      <td>1</td>\n",
              "      <td>0</td>\n",
              "      <td>0</td>\n",
              "    </tr>\n",
              "    <tr>\n",
              "      <th>4</th>\n",
              "      <td>4</td>\n",
              "      <td>26</td>\n",
              "      <td>0</td>\n",
              "      <td>2</td>\n",
              "      <td>60991</td>\n",
              "      <td>737</td>\n",
              "      <td>14801</td>\n",
              "      <td>24628</td>\n",
              "      <td>39421</td>\n",
              "      <td>15492</td>\n",
              "      <td>2</td>\n",
              "      <td>1980</td>\n",
              "      <td>0</td>\n",
              "      <td>1</td>\n",
              "      <td>-6</td>\n",
              "      <td>-6</td>\n",
              "      <td>2</td>\n",
              "      <td>100</td>\n",
              "      <td>4</td>\n",
              "      <td>2314.524902</td>\n",
              "      <td>2</td>\n",
              "      <td>96874</td>\n",
              "      <td>1</td>\n",
              "      <td>759</td>\n",
              "      <td>5</td>\n",
              "      <td>1</td>\n",
              "      <td>146.000000</td>\n",
              "      <td>12.500000</td>\n",
              "      <td>759.000000</td>\n",
              "      <td>759.000000</td>\n",
              "      <td>759.000000</td>\n",
              "      <td>759.000000</td>\n",
              "      <td>96900</td>\n",
              "      <td>0</td>\n",
              "      <td>60991</td>\n",
              "      <td>14801</td>\n",
              "      <td>24628</td>\n",
              "      <td>39421</td>\n",
              "      <td>48792.8</td>\n",
              "      <td>16651.125000</td>\n",
              "      <td>...</td>\n",
              "      <td>3</td>\n",
              "      <td>102.985075</td>\n",
              "      <td>3</td>\n",
              "      <td>55.308707</td>\n",
              "      <td>3</td>\n",
              "      <td>195.972115</td>\n",
              "      <td>3</td>\n",
              "      <td>102.985075</td>\n",
              "      <td>3</td>\n",
              "      <td>55.308707</td>\n",
              "      <td>3</td>\n",
              "      <td>195.972115</td>\n",
              "      <td>3</td>\n",
              "      <td>102.985075</td>\n",
              "      <td>3</td>\n",
              "      <td>1</td>\n",
              "      <td>1</td>\n",
              "      <td>3</td>\n",
              "      <td>5</td>\n",
              "      <td>2</td>\n",
              "      <td>1</td>\n",
              "      <td>3</td>\n",
              "      <td>3</td>\n",
              "      <td>3</td>\n",
              "      <td>3</td>\n",
              "      <td>4</td>\n",
              "      <td>2</td>\n",
              "      <td>2</td>\n",
              "      <td>2</td>\n",
              "      <td>2</td>\n",
              "      <td>3</td>\n",
              "      <td>2</td>\n",
              "      <td>2</td>\n",
              "      <td>2</td>\n",
              "      <td>2</td>\n",
              "      <td>7</td>\n",
              "      <td>1</td>\n",
              "      <td>1</td>\n",
              "      <td>0</td>\n",
              "      <td>0</td>\n",
              "    </tr>\n",
              "    <tr>\n",
              "      <th>5</th>\n",
              "      <td>5</td>\n",
              "      <td>56</td>\n",
              "      <td>1</td>\n",
              "      <td>2</td>\n",
              "      <td>62066</td>\n",
              "      <td>657</td>\n",
              "      <td>13170</td>\n",
              "      <td>21924</td>\n",
              "      <td>35073</td>\n",
              "      <td>12005</td>\n",
              "      <td>1</td>\n",
              "      <td>1985</td>\n",
              "      <td>0</td>\n",
              "      <td>1</td>\n",
              "      <td>-6</td>\n",
              "      <td>-6</td>\n",
              "      <td>2</td>\n",
              "      <td>32</td>\n",
              "      <td>3</td>\n",
              "      <td>2482.655916</td>\n",
              "      <td>1</td>\n",
              "      <td>14987</td>\n",
              "      <td>1</td>\n",
              "      <td>695</td>\n",
              "      <td>4</td>\n",
              "      <td>1</td>\n",
              "      <td>94.750000</td>\n",
              "      <td>0.000000</td>\n",
              "      <td>695.000000</td>\n",
              "      <td>695.000000</td>\n",
              "      <td>695.000000</td>\n",
              "      <td>695.000000</td>\n",
              "      <td>15000</td>\n",
              "      <td>1</td>\n",
              "      <td>62066</td>\n",
              "      <td>13170</td>\n",
              "      <td>21924</td>\n",
              "      <td>35073</td>\n",
              "      <td>43446.2</td>\n",
              "      <td>14110.714286</td>\n",
              "      <td>...</td>\n",
              "      <td>4</td>\n",
              "      <td>105.783866</td>\n",
              "      <td>3</td>\n",
              "      <td>59.721372</td>\n",
              "      <td>3</td>\n",
              "      <td>231.570179</td>\n",
              "      <td>4</td>\n",
              "      <td>105.783866</td>\n",
              "      <td>3</td>\n",
              "      <td>59.721372</td>\n",
              "      <td>3</td>\n",
              "      <td>231.570179</td>\n",
              "      <td>4</td>\n",
              "      <td>105.783866</td>\n",
              "      <td>3</td>\n",
              "      <td>1</td>\n",
              "      <td>0</td>\n",
              "      <td>3</td>\n",
              "      <td>4</td>\n",
              "      <td>1</td>\n",
              "      <td>1</td>\n",
              "      <td>4</td>\n",
              "      <td>4</td>\n",
              "      <td>4</td>\n",
              "      <td>4</td>\n",
              "      <td>2</td>\n",
              "      <td>2</td>\n",
              "      <td>2</td>\n",
              "      <td>2</td>\n",
              "      <td>2</td>\n",
              "      <td>2</td>\n",
              "      <td>2</td>\n",
              "      <td>2</td>\n",
              "      <td>2</td>\n",
              "      <td>2</td>\n",
              "      <td>2</td>\n",
              "      <td>2</td>\n",
              "      <td>3</td>\n",
              "      <td>0</td>\n",
              "      <td>0</td>\n",
              "    </tr>\n",
              "    <tr>\n",
              "      <th>6</th>\n",
              "      <td>6</td>\n",
              "      <td>50</td>\n",
              "      <td>0</td>\n",
              "      <td>2</td>\n",
              "      <td>60991</td>\n",
              "      <td>988</td>\n",
              "      <td>16646</td>\n",
              "      <td>27713</td>\n",
              "      <td>44340</td>\n",
              "      <td>18050</td>\n",
              "      <td>3</td>\n",
              "      <td>1985</td>\n",
              "      <td>0</td>\n",
              "      <td>1</td>\n",
              "      <td>260000</td>\n",
              "      <td>-6</td>\n",
              "      <td>1</td>\n",
              "      <td>1</td>\n",
              "      <td>6</td>\n",
              "      <td>4084.310118</td>\n",
              "      <td>3</td>\n",
              "      <td>69962</td>\n",
              "      <td>1</td>\n",
              "      <td>1165</td>\n",
              "      <td>1</td>\n",
              "      <td>0</td>\n",
              "      <td>236.000000</td>\n",
              "      <td>75.000000</td>\n",
              "      <td>2038.948229</td>\n",
              "      <td>3042.953477</td>\n",
              "      <td>2353.009103</td>\n",
              "      <td>1821.643625</td>\n",
              "      <td>70001</td>\n",
              "      <td>-9</td>\n",
              "      <td>60991</td>\n",
              "      <td>16646</td>\n",
              "      <td>27713</td>\n",
              "      <td>44340</td>\n",
              "      <td>54891.9</td>\n",
              "      <td>19235.377778</td>\n",
              "      <td>...</td>\n",
              "      <td>4</td>\n",
              "      <td>238.158816</td>\n",
              "      <td>3</td>\n",
              "      <td>191.891709</td>\n",
              "      <td>7</td>\n",
              "      <td>674.338721</td>\n",
              "      <td>4</td>\n",
              "      <td>307.991243</td>\n",
              "      <td>3</td>\n",
              "      <td>114.874680</td>\n",
              "      <td>6</td>\n",
              "      <td>403.688338</td>\n",
              "      <td>4</td>\n",
              "      <td>184.376885</td>\n",
              "      <td>3</td>\n",
              "      <td>1</td>\n",
              "      <td>1</td>\n",
              "      <td>3</td>\n",
              "      <td>1</td>\n",
              "      <td>3</td>\n",
              "      <td>0</td>\n",
              "      <td>4</td>\n",
              "      <td>4</td>\n",
              "      <td>4</td>\n",
              "      <td>4</td>\n",
              "      <td>4</td>\n",
              "      <td>2</td>\n",
              "      <td>2</td>\n",
              "      <td>2</td>\n",
              "      <td>2</td>\n",
              "      <td>3</td>\n",
              "      <td>6</td>\n",
              "      <td>6</td>\n",
              "      <td>6</td>\n",
              "      <td>5</td>\n",
              "      <td>7</td>\n",
              "      <td>0</td>\n",
              "      <td>1</td>\n",
              "      <td>0</td>\n",
              "      <td>0</td>\n",
              "    </tr>\n",
              "    <tr>\n",
              "      <th>7</th>\n",
              "      <td>7</td>\n",
              "      <td>26</td>\n",
              "      <td>3</td>\n",
              "      <td>3</td>\n",
              "      <td>52322</td>\n",
              "      <td>773</td>\n",
              "      <td>13489</td>\n",
              "      <td>22471</td>\n",
              "      <td>35929</td>\n",
              "      <td>15992</td>\n",
              "      <td>2</td>\n",
              "      <td>1980</td>\n",
              "      <td>0</td>\n",
              "      <td>1</td>\n",
              "      <td>-6</td>\n",
              "      <td>-6</td>\n",
              "      <td>2</td>\n",
              "      <td>8</td>\n",
              "      <td>5</td>\n",
              "      <td>2823.395990</td>\n",
              "      <td>2</td>\n",
              "      <td>32000</td>\n",
              "      <td>2</td>\n",
              "      <td>976</td>\n",
              "      <td>3</td>\n",
              "      <td>1</td>\n",
              "      <td>81.000000</td>\n",
              "      <td>0.000000</td>\n",
              "      <td>976.000000</td>\n",
              "      <td>976.000000</td>\n",
              "      <td>976.000000</td>\n",
              "      <td>976.000000</td>\n",
              "      <td>20000</td>\n",
              "      <td>0</td>\n",
              "      <td>52322</td>\n",
              "      <td>13489</td>\n",
              "      <td>22471</td>\n",
              "      <td>35929</td>\n",
              "      <td>41857.6</td>\n",
              "      <td>15175.125000</td>\n",
              "      <td>...</td>\n",
              "      <td>4</td>\n",
              "      <td>126.261320</td>\n",
              "      <td>3</td>\n",
              "      <td>82.905428</td>\n",
              "      <td>4</td>\n",
              "      <td>244.122061</td>\n",
              "      <td>4</td>\n",
              "      <td>126.261320</td>\n",
              "      <td>3</td>\n",
              "      <td>82.905428</td>\n",
              "      <td>4</td>\n",
              "      <td>244.122061</td>\n",
              "      <td>4</td>\n",
              "      <td>126.261320</td>\n",
              "      <td>3</td>\n",
              "      <td>2</td>\n",
              "      <td>0</td>\n",
              "      <td>3</td>\n",
              "      <td>3</td>\n",
              "      <td>2</td>\n",
              "      <td>1</td>\n",
              "      <td>4</td>\n",
              "      <td>4</td>\n",
              "      <td>4</td>\n",
              "      <td>4</td>\n",
              "      <td>4</td>\n",
              "      <td>2</td>\n",
              "      <td>2</td>\n",
              "      <td>2</td>\n",
              "      <td>2</td>\n",
              "      <td>3</td>\n",
              "      <td>3</td>\n",
              "      <td>3</td>\n",
              "      <td>3</td>\n",
              "      <td>3</td>\n",
              "      <td>4</td>\n",
              "      <td>1</td>\n",
              "      <td>2</td>\n",
              "      <td>1</td>\n",
              "      <td>0</td>\n",
              "    </tr>\n",
              "    <tr>\n",
              "      <th>8</th>\n",
              "      <td>8</td>\n",
              "      <td>60</td>\n",
              "      <td>4</td>\n",
              "      <td>3</td>\n",
              "      <td>50296</td>\n",
              "      <td>1125</td>\n",
              "      <td>13115</td>\n",
              "      <td>21859</td>\n",
              "      <td>34939</td>\n",
              "      <td>15452</td>\n",
              "      <td>3</td>\n",
              "      <td>1985</td>\n",
              "      <td>0</td>\n",
              "      <td>1</td>\n",
              "      <td>170000</td>\n",
              "      <td>-6</td>\n",
              "      <td>1</td>\n",
              "      <td>1</td>\n",
              "      <td>7</td>\n",
              "      <td>2552.762241</td>\n",
              "      <td>2</td>\n",
              "      <td>118987</td>\n",
              "      <td>1</td>\n",
              "      <td>1156</td>\n",
              "      <td>1</td>\n",
              "      <td>0</td>\n",
              "      <td>184.083333</td>\n",
              "      <td>47.500000</td>\n",
              "      <td>1361.395637</td>\n",
              "      <td>2017.860607</td>\n",
              "      <td>1566.743131</td>\n",
              "      <td>1219.311857</td>\n",
              "      <td>107000</td>\n",
              "      <td>-9</td>\n",
              "      <td>50296</td>\n",
              "      <td>13115</td>\n",
              "      <td>21859</td>\n",
              "      <td>34939</td>\n",
              "      <td>40236.8</td>\n",
              "      <td>17049.500000</td>\n",
              "      <td>...</td>\n",
              "      <td>4</td>\n",
              "      <td>139.266056</td>\n",
              "      <td>3</td>\n",
              "      <td>154.306552</td>\n",
              "      <td>7</td>\n",
              "      <td>522.355839</td>\n",
              "      <td>4</td>\n",
              "      <td>179.365387</td>\n",
              "      <td>3</td>\n",
              "      <td>93.241232</td>\n",
              "      <td>5</td>\n",
              "      <td>315.638586</td>\n",
              "      <td>4</td>\n",
              "      <td>108.383276</td>\n",
              "      <td>3</td>\n",
              "      <td>1</td>\n",
              "      <td>0</td>\n",
              "      <td>3</td>\n",
              "      <td>1</td>\n",
              "      <td>3</td>\n",
              "      <td>0</td>\n",
              "      <td>4</td>\n",
              "      <td>4</td>\n",
              "      <td>4</td>\n",
              "      <td>4</td>\n",
              "      <td>4</td>\n",
              "      <td>2</td>\n",
              "      <td>2</td>\n",
              "      <td>2</td>\n",
              "      <td>2</td>\n",
              "      <td>3</td>\n",
              "      <td>5</td>\n",
              "      <td>5</td>\n",
              "      <td>6</td>\n",
              "      <td>4</td>\n",
              "      <td>7</td>\n",
              "      <td>0</td>\n",
              "      <td>1</td>\n",
              "      <td>1</td>\n",
              "      <td>0</td>\n",
              "    </tr>\n",
              "    <tr>\n",
              "      <th>9</th>\n",
              "      <td>9</td>\n",
              "      <td>26</td>\n",
              "      <td>3</td>\n",
              "      <td>1</td>\n",
              "      <td>63221</td>\n",
              "      <td>552</td>\n",
              "      <td>13338</td>\n",
              "      <td>22199</td>\n",
              "      <td>35501</td>\n",
              "      <td>12005</td>\n",
              "      <td>1</td>\n",
              "      <td>1985</td>\n",
              "      <td>0</td>\n",
              "      <td>1</td>\n",
              "      <td>-6</td>\n",
              "      <td>-6</td>\n",
              "      <td>2</td>\n",
              "      <td>24</td>\n",
              "      <td>3</td>\n",
              "      <td>2845.454432</td>\n",
              "      <td>1</td>\n",
              "      <td>47987</td>\n",
              "      <td>1</td>\n",
              "      <td>1100</td>\n",
              "      <td>4</td>\n",
              "      <td>1</td>\n",
              "      <td>0.000000</td>\n",
              "      <td>0.000000</td>\n",
              "      <td>1100.000000</td>\n",
              "      <td>1100.000000</td>\n",
              "      <td>1100.000000</td>\n",
              "      <td>1100.000000</td>\n",
              "      <td>48000</td>\n",
              "      <td>0</td>\n",
              "      <td>63221</td>\n",
              "      <td>13338</td>\n",
              "      <td>22199</td>\n",
              "      <td>35501</td>\n",
              "      <td>44254.7</td>\n",
              "      <td>14290.714286</td>\n",
              "      <td>...</td>\n",
              "      <td>4</td>\n",
              "      <td>199.275362</td>\n",
              "      <td>3</td>\n",
              "      <td>92.796170</td>\n",
              "      <td>5</td>\n",
              "      <td>366.513953</td>\n",
              "      <td>4</td>\n",
              "      <td>199.275362</td>\n",
              "      <td>3</td>\n",
              "      <td>92.796170</td>\n",
              "      <td>5</td>\n",
              "      <td>366.513953</td>\n",
              "      <td>4</td>\n",
              "      <td>199.275362</td>\n",
              "      <td>3</td>\n",
              "      <td>1</td>\n",
              "      <td>0</td>\n",
              "      <td>3</td>\n",
              "      <td>4</td>\n",
              "      <td>1</td>\n",
              "      <td>1</td>\n",
              "      <td>4</td>\n",
              "      <td>4</td>\n",
              "      <td>4</td>\n",
              "      <td>4</td>\n",
              "      <td>4</td>\n",
              "      <td>2</td>\n",
              "      <td>2</td>\n",
              "      <td>2</td>\n",
              "      <td>2</td>\n",
              "      <td>3</td>\n",
              "      <td>4</td>\n",
              "      <td>4</td>\n",
              "      <td>4</td>\n",
              "      <td>4</td>\n",
              "      <td>6</td>\n",
              "      <td>1</td>\n",
              "      <td>1</td>\n",
              "      <td>0</td>\n",
              "      <td>0</td>\n",
              "    </tr>\n",
              "  </tbody>\n",
              "</table>\n",
              "<p>10 rows × 99 columns</p>\n",
              "</div>"
            ],
            "text/plain": [
              "   CONTROL  AGE1  METRO3  REGION  ...  FMTASSISTED  FMTBURDEN  FMTREGION  FMTSTATUS\n",
              "0        0    82       2       0  ...            0          2          0          0\n",
              "1        1    50       4       2  ...            0          1          0          0\n",
              "2        2    53       4       2  ...            0          3          0          0\n",
              "3        3    67       4       2  ...            0          1          0          0\n",
              "4        4    26       0       2  ...            1          1          0          0\n",
              "5        5    56       1       2  ...            2          3          0          0\n",
              "6        6    50       0       2  ...            0          1          0          0\n",
              "7        7    26       3       3  ...            1          2          1          0\n",
              "8        8    60       4       3  ...            0          1          1          0\n",
              "9        9    26       3       1  ...            1          1          0          0\n",
              "\n",
              "[10 rows x 99 columns]"
            ]
          },
          "metadata": {
            "tags": []
          },
          "execution_count": 39
        }
      ]
    },
    {
      "cell_type": "code",
      "metadata": {
        "id": "6NS5AQpcQ8Je",
        "colab_type": "code",
        "outputId": "707eec70-2c36-498a-d11a-e3b252515308",
        "colab": {
          "base_uri": "https://localhost:8080/",
          "height": 221
        }
      },
      "source": [
        "# Now we only ahve numeric columns (ints and floats)\n",
        "national_processed.dtypes"
      ],
      "execution_count": 0,
      "outputs": [
        {
          "output_type": "execute_result",
          "data": {
            "text/plain": [
              "CONTROL            int32\n",
              "AGE1               int64\n",
              "METRO3              int8\n",
              "REGION              int8\n",
              "LMED               int64\n",
              "                   ...  \n",
              "FMTINCRELAMICAT     int8\n",
              "FMTASSISTED         int8\n",
              "FMTBURDEN           int8\n",
              "FMTREGION           int8\n",
              "FMTSTATUS           int8\n",
              "Length: 99, dtype: object"
            ]
          },
          "metadata": {
            "tags": []
          },
          "execution_count": 40
        }
      ]
    },
    {
      "cell_type": "code",
      "metadata": {
        "id": "WAJ8bjVcEwhA",
        "colab_type": "code",
        "outputId": "afa49b32-51f2-4186-c3e9-3a930624f8d2",
        "colab": {
          "base_uri": "https://localhost:8080/",
          "height": 289
        }
      },
      "source": [
        "# Visualizing rooms and bedrooms compared to value\n",
        "plt.scatter(national_processed['ROOMS'], national_processed['BEDRMS'], c=national_processed['VALUE'])\n",
        "plt.xlabel('ROOMS')\n",
        "plt.ylabel('BEDRMS');\n"
      ],
      "execution_count": 0,
      "outputs": [
        {
          "output_type": "display_data",
          "data": {
            "image/png": "[encoded data removed]",
            "text/plain": [
              "<Figure size 432x288 with 1 Axes>"
            ]
          },
          "metadata": {
            "tags": []
          }
        }
      ]
    },
    {
      "cell_type": "code",
      "metadata": {
        "id": "W3Gawb2ESJj8",
        "colab_type": "code",
        "outputId": "9f93cd94-23a9-4303-afbf-f138d85bf0ba",
        "colab": {
          "base_uri": "https://localhost:8080/",
          "height": 282
        }
      },
      "source": [
        "# Why not show it in 3D?\n",
        "# Comparing rooms and bedrooms and age against the value of the house.\n",
        "from mpl_toolkits.mplot3d import Axes3D\n",
        "plt.figure().gca(projection='3d')\n",
        "plt.scatter(national_processed['ROOMS'], national_processed['BEDRMS'], national_processed['AGE1'], c=national_processed['VALUE'])\n",
        "plt.xlabel('ROOMS')\n",
        "plt.ylabel('BEDRMS');"
      ],
      "execution_count": 0,
      "outputs": [
        {
          "output_type": "stream",
          "text": [
            "/usr/local/lib/python3.6/dist-packages/matplotlib/collections.py:857: RuntimeWarning: invalid value encountered in sqrt\n",
            "  scale = np.sqrt(self._sizes) * dpi / 72.0 * self._factor\n"
          ],
          "name": "stderr"
        },
        {
          "output_type": "display_data",
          "data": {
            "image/png": "[encoded data removed]",
            "text/plain": [
              "<Figure size 432x288 with 1 Axes>"
            ]
          },
          "metadata": {
            "tags": []
          }
        }
      ]
    },
    {
      "cell_type": "code",
      "metadata": {
        "id": "MH_Y6B2yVGwA",
        "colab_type": "code",
        "outputId": "371f3bfa-9ceb-452e-dd3d-5dd0775798ac",
        "colab": {
          "base_uri": "https://localhost:8080/",
          "height": 289
        }
      },
      "source": [
        "# Comparing age of house with number of rooms and value\n",
        "# 2D plot\n",
        "plt.scatter(national_processed['VALUE'], national_processed['ROOMS'], c=national_processed['AGE1'])\n",
        "plt.xlabel('VALUE')\n",
        "plt.ylabel('ROOMS');"
      ],
      "execution_count": 0,
      "outputs": [
        {
          "output_type": "display_data",
          "data": {
            "image/png": "[encoded data removed]",
            "text/plain": [
              "<Figure size 432x288 with 1 Axes>"
            ]
          },
          "metadata": {
            "tags": []
          }
        }
      ]
    },
    {
      "cell_type": "code",
      "metadata": {
        "id": "nZk4e0mpTiWn",
        "colab_type": "code",
        "colab": {}
      },
      "source": [
        ""
      ],
      "execution_count": 0,
      "outputs": []
    },
    {
      "cell_type": "markdown",
      "metadata": {
        "id": "RQx7UvsucIrL",
        "colab_type": "text"
      },
      "source": [
        "# Stretch Goals\n",
        "\n",
        "## 1) Perform further data exploration on the HADS national dataset (the version before we one-hot encoded it) Make scatterplots and see if you can see any resemblance between the original scatterplots and the plot of the principal components that you made in 7.1. \n",
        "\n",
        "(You may or may not not see very much resemblance depending on the variables you choose, and that's ok!)\n",
        "\n",
        "## 2) Study \"Scree Plots\" and then try and make one for your PCA dataset. How many principal conponents do you need to retain in order for your PCs to contain 90% of the explained variance? \n",
        "\n",
        "We will present this topic formally at the beginning of tomorrow's lecture, so if you figure this stretch goal out, you're ahead of the game. \n",
        "\n",
        "## 3) Explore further the intuition behind eigenvalues and eigenvectors by creating your very own eigenfaces:\n",
        "\n",
        "Prioritize self-study over this stretch goal if you are not semi-comfortable with the topics of PCA, Eigenvalues, and Eigenvectors.\n",
        "\n",
        "![Eigenfaces](https://i.pinimg.com/236x/1c/f1/01/1cf101a9859437a5d096a04b05be06b4--faces-tattoo.jpg)\n",
        "\n",
        "You don't necessarily have to use this resource, but this will get you started: \n",
        "[Eigenface Tutorial](https://sandipanweb.wordpress.com/2018/01/06/eigenfaces-and-a-simple-face-detector-with-pca-svd-in-python/)"
      ]
    }
  ]
}